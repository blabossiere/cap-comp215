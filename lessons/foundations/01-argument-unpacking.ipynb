{
  "cells": [
    {
      "cell_type": "markdown",
      "source": [
        "# Python Foundations:  Argument unpacking\n",
        "New Python syntax / concepts - working effectively with *arg and **kwargs\n",
        "\n",
        "Foundations notebook available on Github from the powderflask/cap-comp215 repository.\n",
        "As usual, the first code block just imports the modules we will use."
      ],
      "metadata": {
        "collapsed": false,
        "id": "XhGcVf82JEQC"
      }
    },
    {
      "cell_type": "markdown",
      "source": [],
      "metadata": {
        "collapsed": false,
        "id": "jCnk4bgXJEQG"
      }
    },
    {
      "cell_type": "code",
      "execution_count": 7,
      "metadata": {
        "collapsed": true,
        "ExecuteTime": {
          "end_time": "2023-12-26T02:53:56.826917Z",
          "start_time": "2023-12-26T02:53:56.822681Z"
        },
        "id": "l1m4TukrJEQG"
      },
      "outputs": [],
      "source": [
        "import math\n",
        "\n",
        "import matplotlib.pyplot as plt"
      ]
    },
    {
      "cell_type": "markdown",
      "source": [
        "## New Python Syntax: argument unpacking"
      ],
      "metadata": {
        "collapsed": false,
        "id": "zZJXYidsJEQI"
      }
    },
    {
      "cell_type": "code",
      "execution_count": null,
      "outputs": [
        {
          "name": "stdout",
          "output_type": "stream",
          "text": [
            "positional args is a <class 'tuple'>: (42, 'hello')\n",
            "keyword args is a <class 'dict'>: {'foo': True, 'bar': [1, 2, 3]}\n"
          ]
        }
      ],
      "source": [
        "def print_args(*args, **kwargs):\n",
        "    print(f'positional args is a {type(args)}: {args}')\n",
        "    print(f'keyword args is a {type(kwargs)}: {kwargs}')\n",
        "\n",
        "print_args(42, 'hello', foo=True, bar=[1,2,3])"
      ],
      "metadata": {
        "pycharm": {
          "name": "#%%\n"
        },
        "ExecuteTime": {
          "end_time": "2023-12-26T02:53:56.836323Z",
          "start_time": "2023-12-26T02:53:56.829558Z"
        },
        "id": "65-qdm7DJEQJ",
        "outputId": "171bc238-f5cc-4450-c778-afe463790cd3"
      }
    },
    {
      "cell_type": "markdown",
      "source": [
        "### Unpacking a dictionary or tuple to pass a collection of arguments"
      ],
      "metadata": {
        "collapsed": false,
        "id": "IAszao6GJEQL"
      }
    },
    {
      "cell_type": "code",
      "execution_count": null,
      "outputs": [
        {
          "name": "stdout",
          "output_type": "stream",
          "text": [
            "positional args is a <class 'tuple'>: ('cool', 'numbers')\n",
            "keyword args is a <class 'dict'>: {'phi': 1.618033988749, 'pi': 3.141592653589793, 'h': 6.62607015e-34}\n"
          ]
        }
      ],
      "source": [
        "a = (\"cool\", 'numbers')\n",
        "d = dict(phi=1.618033988749, pi=math.pi, h=6.62607015e-34)\n",
        "\n",
        "print_args(*a, **d)"
      ],
      "metadata": {
        "pycharm": {
          "name": "#%%\n"
        },
        "ExecuteTime": {
          "end_time": "2023-12-26T02:53:56.853644Z",
          "start_time": "2023-12-26T02:53:56.839306Z"
        },
        "id": "Phgqvsz8JEQM",
        "outputId": "330227c7-8726-44a1-e45f-fb318dec903e"
      }
    },
    {
      "cell_type": "markdown",
      "source": [
        "#### Argument Unpacking: example\n",
        "unpacking data dictionary and empirical coefficient values for *Basal Metabolic Rate* (BMR) calculation:\n",
        "\n",
        "males :   `BMR = 66 + 13.7 * weight (kg) + 5 * height (cm) - 6.8 * age (years)`\n",
        "\n",
        "female: `BMR = 655 + 9.6 * weight (kg) + 1.8 * height (cm) - 4.7 * age (years)`"
      ],
      "metadata": {
        "collapsed": false,
        "pycharm": {
          "name": "#%% md\n"
        },
        "id": "3a4en-dDJEQN"
      }
    },
    {
      "cell_type": "code",
      "execution_count": 2,
      "outputs": [
        {
          "output_type": "execute_result",
          "data": {
            "text/plain": [
              "{'bob': 1619.0, 'bei': 1333.5, 'kai': 2185.8, 'kia': 1437.1}"
            ]
          },
          "metadata": {},
          "execution_count": 2
        }
      ],
      "source": [
        "people = (\n",
        "    dict(name='bob', gender='male', weight=70, height=180, age=45),\n",
        "    dict(name='bei', gender='female', weight=55, height=175, age=35),\n",
        "    dict(name='kai', gender='male', weight=90, height=210, age=24),\n",
        "    dict(name='kia', gender='female', weight=60, height=185, age=27),\n",
        ")\n",
        "\n",
        "BMR_PARAMS = dict(\n",
        "    male=(66, 13.7, 5, -6.8),     # 66 + 13.7 * weight (kg) + 5 * height (cm) - 6.8 * age (years)\n",
        "    female=(655, 9.6, 1.8, -4.7), # 655 + 9.6 * weight (kg) + 1.8 * height (cm) - 4.7 * age (years)\n",
        ")\n",
        "\n",
        "def bmr(a, b, c, d, weight, height, age, **kwargs):\n",
        "    \"\"\" Return the BMR for coefficients a,b,c,d and given weight (kg), height (cm) and age (years) \"\"\"\n",
        "    # print(\"a:\", a)\n",
        "    # print(b*weight)\n",
        "    # print(c*height)\n",
        "    # print(d*age)\n",
        "    return a + b*weight + c*height + d*age\n",
        "\n",
        "{\n",
        "    p['name']: bmr(*BMR_PARAMS[p['gender']], **p)   for p in people\n",
        "}\n",
        "\n",
        "#print(*BMR_PARAMS['male'])"
      ],
      "metadata": {
        "pycharm": {
          "name": "#%%\n"
        },
        "ExecuteTime": {
          "end_time": "2023-12-26T02:53:56.855304Z",
          "start_time": "2023-12-26T02:53:56.846572Z"
        },
        "id": "RWJ_3IhGJEQO",
        "outputId": "487e93ab-da97-48ed-a925-6913515f3eaa",
        "colab": {
          "base_uri": "https://localhost:8080/"
        }
      }
    },
    {
      "cell_type": "markdown",
      "source": [
        "#### Argument Unpacking: example\n",
        "unpacking coordinates for line segments in a 7-segment display."
      ],
      "metadata": {
        "collapsed": false,
        "pycharm": {
          "name": "#%% md\n"
        },
        "id": "rg9DIDx0JEQQ"
      }
    },
    {
      "cell_type": "code",
      "execution_count": 12,
      "outputs": [
        {
          "output_type": "stream",
          "name": "stdout",
          "text": [
            "(0, 2) (4, 4)\n",
            "(0, 0) (2, 4)\n",
            "(2, 2) (2, 4)\n",
            "(0, 2) (2, 2)\n",
            "(0, 0) (0, 2)\n",
            "(2, 2) (0, 2)\n",
            "(0, 2) (0, 0)\n"
          ]
        },
        {
          "output_type": "display_data",
          "data": {
            "text/plain": [
              "<Figure size 640x480 with 1 Axes>"
            ],
            "image/png": "[encoded data removed]"
          },
          "metadata": {}
        },
        {
          "output_type": "stream",
          "name": "stdout",
          "text": [
            "(0, 4) (2, 4)\n",
            "(0, 2) (0, 4)\n",
            "(2, 2) (2, 4)\n",
            "(0, 2) (2, 2)\n",
            "(0, 0) (0, 2)\n",
            "(2, 0) (2, 2)\n",
            "(0, 0) (2, 0)\n"
          ]
        }
      ],
      "source": [
        "# (start, end) coordinates for each segment on a 3 x 5 grid (0, 0) to (2, 4)\n",
        "SEGS_COORDS = (\n",
        "    ((0,4), (2,4)),  # top horizontal\n",
        "    ((0,2), (0,4)),  # left-upper vertical\n",
        "    ((2,2), (2,4)),  # right-upper vertical\n",
        "    ((0,2), (2,2)),  # middle horizontal\n",
        "    ((0,0), (0,2)),  # left-lower vertical\n",
        "    ((2,0), (2,2)),  # right-lower vertical\n",
        "    ((0,0), (2,0)),  # bottom horizontal\n",
        ")\n",
        "# Transform coordinate pairs ((x1, y1), (x2, y2)) into ordinate vectors ((x1, x2), (y1, y2)) (for matplotlib)\n",
        "SEG_ORDS = [zip(*coords) for coords in SEGS_COORDS]\n",
        "# List of segments needed to display each of 9 digits\n",
        "SEGMENTS = (\n",
        "    (0, 1, 2, 4, 5, 6),\n",
        "    (2, 5),\n",
        "    (0, 2, 3, 4, 6),\n",
        "    (0, 2, 3, 5, 6),\n",
        "    (1, 2, 3, 5),\n",
        "    (0, 1, 3, 5, 6),\n",
        "    (1, 3, 4, 5, 6),\n",
        "    (0, 2, 5),\n",
        "    (0, 1, 2, 3, 4, 5, 6),\n",
        "    (0, 1, 2, 3, 5)\n",
        ")\n",
        "\n",
        "def seven_seg_display(d):\n",
        "    \"\"\" Plot digit d as a seven segment display \"\"\"\n",
        "    assert 0 <= d <= 9\n",
        "    for seg in SEGMENTS[d]:\n",
        "      print(*SEG_ORDS[seg])\n",
        "      plt.plot(*SEG_ORDS[seg])\n",
        "\n",
        "N = 8\n",
        "seven_seg_display(N)\n",
        "plt.axis('equal')\n",
        "plt.axis('off')\n",
        "plt.show()\n",
        "\n",
        "for coords in SEGS_COORDS:\n",
        "  print(*coords)"
      ],
      "metadata": {
        "pycharm": {
          "name": "#%%\n"
        },
        "ExecuteTime": {
          "end_time": "2023-12-26T02:53:56.891158Z",
          "start_time": "2023-12-26T02:53:56.854413Z"
        },
        "id": "6r6YsjSIJEQR",
        "outputId": "e02d2508-87b2-4100-c2cf-0d2a08fa223a",
        "colab": {
          "base_uri": "https://localhost:8080/",
          "height": 644
        }
      }
    }
  ],
  "metadata": {
    "kernelspec": {
      "display_name": "Python 3",
      "language": "python",
      "name": "python3"
    },
    "language_info": {
      "codemirror_mode": {
        "name": "ipython",
        "version": 2
      },
      "file_extension": ".py",
      "mimetype": "text/x-python",
      "name": "python",
      "nbconvert_exporter": "python",
      "pygments_lexer": "ipython2",
      "version": "2.7.6"
    },
    "colab": {
      "provenance": []
    }
  },
  "nbformat": 4,
  "nbformat_minor": 0
}