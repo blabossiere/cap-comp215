{
  "nbformat": 4,
  "nbformat_minor": 0,
  "metadata": {
    "colab": {
      "provenance": [],
      "authorship_tag": "ABX9TyMobzZCUxbtJXStGFZPwBhK",
      "include_colab_link": true
    },
    "kernelspec": {
      "name": "python3",
      "display_name": "Python 3"
    },
    "language_info": {
      "name": "python"
    }
  },
  "cells": [
    {
      "cell_type": "markdown",
      "metadata": {
        "id": "view-in-github",
        "colab_type": "text"
      },
      "source": [
        "<a href=\"https://colab.research.google.com/github/blabossiere/cap-comp215/blob/main/Computer_215_Lab_6_Rough_Work.ipynb\" target=\"_parent\"><img src=\"https://colab.research.google.com/assets/colab-badge.svg\" alt=\"Open In Colab\"/></a>"
      ]
    },
    {
      "cell_type": "code",
      "execution_count": 2,
      "metadata": {
        "colab": {
          "base_uri": "https://localhost:8080/"
        },
        "id": "5TPX-uj-Tv3W",
        "outputId": "af4e8aee-9044-4f5f-8375-4f367d6b200b"
      },
      "outputs": [
        {
          "output_type": "stream",
          "name": "stdout",
          "text": [
            "[[1 1 0 0 1 1 0 0 1 1]\n",
            " [1 1 0 0 0 0 1 1 1 1]\n",
            " [0 1 1 0 0 1 1 0 1 1]\n",
            " [0 1 1 0 0 0 1 0 1 0]\n",
            " [1 1 1 1 1 1 0 1 0 0]\n",
            " [1 0 1 0 1 0 1 1 0 1]\n",
            " [1 1 1 1 0 0 0 1 0 0]\n",
            " [0 1 0 1 1 1 0 1 0 1]\n",
            " [1 1 1 0 0 0 1 1 1 1]\n",
            " [1 0 0 1 0 1 0 1 1 0]]\n",
            "[[0 0 1 0 0 1 1 0 0 1]]\n"
          ]
        }
      ],
      "source": [
        "import numpy as np\n",
        "from scipy.signal import correlate2d\n",
        "\n",
        "a = np.random.randint(2, size = (10, 10), dtype=np.uint8)\n",
        "print(a)\n",
        "\n",
        "ca = np.random.randint(2, size = (1, 10), dtype=np.uint8)\n",
        "print(ca)\n",
        "\n",
        "b = np.zeros_like(a)\n",
        "rows, cols = a.shape"
      ]
    },
    {
      "cell_type": "code",
      "source": [
        "kernel = np.array([[1, 1, 1],\n",
        "                  [1, 10, 1],\n",
        "                   [1, 1, 1]])\n",
        "\n",
        "c = correlate2d(a, kernel, mode='same')\n",
        "print(c)\n",
        "\n",
        "b = (c==3) | (c==12) | (c==13)\n",
        "b = b.astype(np.uint8)\n",
        "\n",
        "b = (c==3) | (c==12) | (c==13)\n",
        "b = b.astype(np.uint8)\n",
        "\n",
        "table = np.zeros(20, dtype=np.uint8)\n",
        "print(table)\n",
        "#table[[0, 10, 19]] = 2\n",
        "#print(table)\n",
        "table[[3, 12, 13]] = 1\n",
        "print(table)\n",
        "c = correlate2d(a, kernel, mode='same')\n",
        "b = table[c]\n",
        "print(b)"
      ],
      "metadata": {
        "colab": {
          "base_uri": "https://localhost:8080/"
        },
        "id": "uLEJS8pBfPVu",
        "outputId": "f03f20b7-b346-47e5-bb42-6ec074a9d3b9"
      },
      "execution_count": 3,
      "outputs": [
        {
          "output_type": "stream",
          "name": "stdout",
          "text": [
            "[[13 13  2  1 11 12  3  4 14 13]\n",
            " [14 15  4  2  3  5 14 15 16 15]\n",
            " [ 4 15 14  2  1 13 14  7 15 14]\n",
            " [ 4 16 16  5  4  5 14  5 13  3]\n",
            " [13 16 15 15 13 14  5 14  4  2]\n",
            " [14  8 16  7 14  4 14 13  4 10]\n",
            " [13 15 15 15  5  4  5 13  5  2]\n",
            " [ 5 16  7 14 13 12  5 14  6 12]\n",
            " [13 14 14  4  5  4 15 15 16 13]\n",
            " [12  4  3 11  2 11  4 14 14  3]]\n",
            "[0 0 0 0 0 0 0 0 0 0 0 0 0 0 0 0 0 0 0 0]\n",
            "[0 0 0 1 0 0 0 0 0 0 0 0 1 1 0 0 0 0 0 0]\n",
            "[[1 1 0 0 0 1 1 0 0 1]\n",
            " [0 0 0 0 1 0 0 0 0 0]\n",
            " [0 0 0 0 0 1 0 0 0 0]\n",
            " [0 0 0 0 0 0 0 0 1 1]\n",
            " [1 0 0 0 1 0 0 0 0 0]\n",
            " [0 0 0 0 0 0 0 1 0 0]\n",
            " [1 0 0 0 0 0 0 1 0 0]\n",
            " [0 0 0 0 1 1 0 0 0 1]\n",
            " [1 0 0 0 0 0 0 0 0 1]\n",
            " [1 0 1 0 0 0 0 0 0 1]]\n"
          ]
        }
      ]
    }
  ]
}