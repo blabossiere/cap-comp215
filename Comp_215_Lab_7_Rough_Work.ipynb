{
  "nbformat": 4,
  "nbformat_minor": 0,
  "metadata": {
    "colab": {
      "provenance": [],
      "authorship_tag": "ABX9TyOi4nP0GsIdKqIzPDW5GMID",
      "include_colab_link": true
    },
    "kernelspec": {
      "name": "python3",
      "display_name": "Python 3"
    },
    "language_info": {
      "name": "python"
    }
  },
  "cells": [
    {
      "cell_type": "markdown",
      "metadata": {
        "id": "view-in-github",
        "colab_type": "text"
      },
      "source": [
        "<a href=\"https://colab.research.google.com/github/blabossiere/cap-comp215/blob/main/Comp_215_Lab_7_Rough_Work.ipynb\" target=\"_parent\"><img src=\"https://colab.research.google.com/assets/colab-badge.svg\" alt=\"Open In Colab\"/></a>"
      ]
    },
    {
      "cell_type": "code",
      "execution_count": null,
      "metadata": {
        "id": "nVYXXwetCblc"
      },
      "outputs": [],
      "source": [
        " print(\"random number:\", np.random.choice([0, 1], (3,3), p = (1-self.p, self.p)))\n",
        "\n",
        "        number_list = []\n",
        "\n",
        "        count = 0\n",
        "        for row in self.state:\n",
        "          for number in row:\n",
        "            number_list.append(number)\n",
        "            count = count + 1\n",
        "        #assert(int(self.state[1][0] == 0))\n",
        "        #self.state[0][1] = 1\n",
        "        print(type(number_list[0]))\n",
        "        print(\"number count:\", count)\n",
        "        print(\"number list\", number_list)\n",
        "\n",
        "        size = int(math.sqrt(count))\n",
        "        print(size)\n",
        "\n",
        "        row_index = 0\n",
        "        for row in self.state:\n",
        "          for number in row:\n",
        "            if row[number] == 0:\n",
        "              self.state[row][row_index] = np.array([1])\n",
        "              #print(self.state[row][row_index])\n",
        "          row_index = row_index + 1\n",
        "            #self.state[row][row_index] = np.random.choice([0, 1], (1,1), p = (1-self.p, self.p))\n",
        "              #self.state[row][number] = 1\n",
        "              # number = np.random.choice([0, 1], (1,1), p = (1-self.p, self.p))\n",
        "              # self.state[row][number] = number\n",
        "\n",
        "        # self.state[0][0] = np.random.choice([0, 1], p = (1-self.p, self.p))\n",
        "        # self.state[0][1] = np.random.choice([0, 1], p = (1-self.p, self.p))\n",
        "        # self.state[0][2] = np.random.choice([0, 1], p = (1-self.p, self.p))\n",
        "        # self.state[1][0] = np.random.choice([0, 1], p = (1-self.p, self.p))\n",
        "        # self.state[1][1] = np.random.choice([0, 1], p = (1-self.p, self.p))\n",
        "        # self.state[1][2] = np.random.choice([0, 1], p = (1-self.p, self.p))\n",
        "        # self.state[2][0] = np.random.choice([0, 1], p = (1-self.p, self.p))\n",
        "        # self.state[2][1] = np.random.choice([0, 1], p = (1-self.p, self.p))\n",
        "        # self.state[2][2] = np.random.choice([0, 1], p = (1-self.p, self.p))"
      ]
    }
  ]
}