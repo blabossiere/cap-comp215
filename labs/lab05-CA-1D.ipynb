{
  "cells": [
    {
      "cell_type": "markdown",
      "metadata": {
        "collapsed": true,
        "pycharm": {
          "name": "#%% md\n"
        },
        "id": "6mIBV-zhVXfG"
      },
      "source": [
        "COMP 215 - LAB 5 (Elementary Cellular Automata)\n",
        "-----------------------------------------------\n",
        "#### Name: Brayden Labossiere\n",
        "#### Date: Tuesday March 12, 2024\n",
        "\n",
        "This lab exercise is an introduction to the elementary [Cellular Automata](https://en.wikipedia.org/wiki/Elementary_cellular_automaton) studied by [Stephen Wolfram](https://en.wikipedia.org/wiki/Stephen_Wolfram#Complex_systems_and_cellular_automata).\n",
        "\n",
        "**New Python concepts**:\n",
        "  * **[NumPy](https://numpy.org)** is an open-source scientific computing package.  We will be using numpy for the remainder of the term.\n",
        "  * 1D and 2D [array](https://numpy.org/doc/stable/reference/generated/numpy.array.html) -  a rectangular grid with efficient matrix operations.\n",
        "\n",
        "**New Computation concepts**:\n",
        "  * **bit sequence** (a.k.a. binary number) - using a sequence of 0's and 1's to efficiently represent a data structure and processes.\n",
        "\n",
        "**Credits**:\n",
        "    Code examples based on [Think Complexity, 2nd edition](https://thinkcomplex.com).\n",
        "    Copyright 2016 Allen Downey, [MIT License](http://opensource.org/licenses/MIT)\n",
        "\n",
        "As usual, the first code cell simply imports all the modules we'll be using..."
      ]
    },
    {
      "cell_type": "code",
      "execution_count": null,
      "outputs": [],
      "source": [
        "%matplotlib inline\n",
        "\n",
        "import matplotlib.pyplot as plt\n",
        "import numpy as np\n",
        "import random"
      ],
      "metadata": {
        "pycharm": {
          "name": "#%%\n"
        },
        "ExecuteTime": {
          "end_time": "2024-01-03T01:08:15.688738Z",
          "start_time": "2024-01-03T01:08:15.351290Z"
        },
        "id": "IXBSYxXLVXfL"
      }
    },
    {
      "cell_type": "markdown",
      "source": [
        "## CA Fundamentals\n",
        "Both the textbook and our week5 notebook develop some fundamental operations for simulating Elementary CA.\n",
        "Some of the code developed in class is reproduced here without deriving all the ideas - review `week05` notebook for the full story.\n",
        "The sliding dot product algorithm in `rule_indexes` is implemented with [numpy.correlate](https://numpy.org/doc/stable/reference/generated/numpy.correlate.html).  It's behaviour is identical to the derivation from class.\n",
        "\n",
        "#### Notes\n",
        "* we use `np.pad(array, 1, mode='wrap')` to pad state vector with 1 extra value at both ends, equal to the last value at the opposing end of the vector.  This strategy avoids [edge effects](https://en.wikipedia.org/wiki/Boundary_problem_(spatial_analysis)#Types_and_examples).\n",
        "* since the rule is an `np.array`, we use \"vector indexing\" here to index a whole row at once:  `next_row=rule[indexes]`  See `foundations/numpy_1D_arrays` for details.\n"
      ],
      "metadata": {
        "collapsed": false,
        "pycharm": {
          "name": "#%% md\n"
        },
        "id": "r6IbHUAAVXfN"
      }
    },
    {
      "cell_type": "code",
      "execution_count": null,
      "outputs": [
        {
          "output_type": "display_data",
          "data": {
            "text/plain": [
              "<Figure size 640x480 with 1 Axes>"
            ],
            "image/png": "[encoded data removed]"
          },
          "metadata": {}
        }
      ],
      "source": [
        "POWERS_OF_2 = np.array((4, 2, 1))\n",
        "\n",
        "def rule_indexes(state):\n",
        "    \"\"\" Return vector of rule indexes - one index for each 3-cell neighbourhood in the CA state vector. \"\"\"\n",
        "    # numpy's version of the \"sliding dot product\" algorithm;  \"pad\" ends of state array with extra 0 cell to mitigate edge effects\n",
        "    return np.correlate(np.pad(state, 1, mode='constant'), POWERS_OF_2, mode='valid')\n",
        "\n",
        "assert all( rule_indexes(np.array([1,1,0,0,1,0,0,0])) == [3, 6, 4, 1, 2, 4, 0, 0] )\n",
        "\n",
        "\n",
        "def transition(state, rule):\n",
        "    \"\"\" Return the vector resulting from a transition of given CA state under the given 8-bit rule \"\"\"\n",
        "    indexes = rule_indexes(state)\n",
        "    return np.array(rule[indexes])  # \"vector indexing\" replaces: [rule[i] for i in indexes]\n",
        "\n",
        "rule_110 = (0,1,1,0,1,1,1,0)[::-1]\n",
        "assert all( transition(np.array((0,0,1,1,1,0,0,0,1,1,0)), np.array(rule_110)) == (0,1,1,0,1,0,0,1,1,1,0))\n",
        "\n",
        "\n",
        "# This algorithm is from the textbook - it uses numpy to do a decimal to binary conversion.\n",
        "def get_lookup_table(rule):\n",
        "    \"\"\"\n",
        "    Return the 8-bit transition vector for the given elementary CA rule number.\n",
        "    rule: int 0-255\n",
        "    returns: transition lookup table - a 8 element vector of 0s and 1s\n",
        "    \"\"\"\n",
        "    rule = np.array([rule], dtype=np.uint8)\n",
        "    return np.unpackbits(rule)[::-1]\n",
        "\n",
        "assert np.all( get_lookup_table(110) == rule_110 )\n",
        "\n",
        "\n",
        "def single_centre_array(n_cells):\n",
        "    \"\"\" Return a binary 1D array with given number of cells, all zeros except a single 1 in the centre cell \"\"\"\n",
        "    array = np.zeros(n_cells, dtype=np.uint8)\n",
        "    array[n_cells//2] = 1\n",
        "    return array\n",
        "\n",
        "assert np.all( single_centre_array(7) == (0,0,0,1,0,0,0) )\n",
        "\n",
        "\n",
        "def simulate_ca(n_cells, n_steps, rule):\n",
        "    \"\"\" Generate a CA with given number of cells, plot progression of rule for given number of time steps \"\"\"\n",
        "    start_state = single_centre_array(n_cells)\n",
        "    # create a stack of \"empty\" state vectors, one for each time step\n",
        "    ca_timesteps = np.vstack([start_state, np.zeros((n_steps, len(start_state)), dtype=np.uint8)])\n",
        "    # run the simulation\n",
        "    for t in range(1, n_steps):\n",
        "        ca_timesteps[t] = transition(ca_timesteps[t-1], rule)\n",
        "    return ca_timesteps\n",
        "\n",
        "\n",
        "def plot_ca(array, axes=None, title='', cmap='Blues', **options):\n",
        "    \"\"\"\n",
        "    Plot the 2D array as an image on the given axes  1's will be dark blue, 0's will be light blue.\n",
        "\n",
        "    :param axes: the axes to plot on, or None to use the `plt.gca()` (current axes)\n",
        "    :param options: keyword arguments passed directly to `plt.imshow()`\n",
        "           see https://matplotlib.org/stable/api/_as_gen/matplotlib.axes.Axes.imshow.html\n",
        "    \"\"\"\n",
        "    axes = axes or plt.gca()  # If not axes are provided, draw on current axes\n",
        "    axes.set(\n",
        "        title=title,\n",
        "        ylabel='Time Steps',\n",
        "    )\n",
        "    # Turn off axes labels and tick marks\n",
        "    axes.tick_params(axis='x', which='both', bottom=False, labelbottom=False)\n",
        "    # Defaults for displaying a \"matrix\" with hard-pixel boundaries and (0,0) at top-left\n",
        "    options = {**dict(interpolation='nearest', origin='upper'), **options}\n",
        "    axes.imshow(array, cmap=cmap, **options)\n",
        "\n",
        "rule_90 = get_lookup_table(90)\n",
        "ca_timesteps = simulate_ca(200, 100, rule_90)\n",
        "plot_ca(ca_timesteps, title=f'Rule 90')"
      ],
      "metadata": {
        "pycharm": {
          "name": "#%%\n"
        },
        "ExecuteTime": {
          "end_time": "2024-01-03T01:08:15.797057Z",
          "start_time": "2024-01-03T01:08:15.693838Z"
        },
        "colab": {
          "base_uri": "https://localhost:8080/",
          "height": 317
        },
        "id": "EIvrCKamVXfO",
        "outputId": "01380c71-24ed-4147-fa6a-b570e413b181"
      }
    },
    {
      "cell_type": "markdown",
      "source": [
        "## Exercise 1: Additional Start States\n",
        "In Wolfram's original experiments, he starts with a CA that is all zeros except the centre cell.\n",
        "This is reproduced by the `single_centre_array` function above.\n",
        "It would be interesting to experiment with other start states...\n",
        "\n",
        "Write 2 functions, each of which returns a 1-D `numpy.array` (vector) configured in a specific state:\n",
        "1. `from_string_array` takes a text string of 0's and 1's and returns a 1D array with matching integer values\n",
        "2. `random_array` takes a float $ p where 0 <= p <= 1 $ as input and returns a 1D array $a$, where probability $a[i] == 1$ is $p$\n",
        "\n",
        "*Tip*: both problems are most easily solved using list comprehensions!"
      ],
      "metadata": {
        "collapsed": false,
        "pycharm": {
          "name": "#%% md\n"
        },
        "id": "n4DNyXk-VXfR"
      }
    },
    {
      "cell_type": "code",
      "execution_count": null,
      "outputs": [
        {
          "output_type": "execute_result",
          "data": {
            "text/plain": [
              "[1, 1, 0, 0, 0, 0, 0]"
            ]
          },
          "metadata": {},
          "execution_count": 61
        }
      ],
      "source": [
        "# Solution for Ex. 1 here...\n",
        "\n",
        "num_string = '0110010'\n",
        "\n",
        "def from_string_array(num_string):\n",
        "  \"\"\"Takes the input of a string of numbers and returns a 1D array with matching integer values.\"\"\"\n",
        "  return [int(letter) for letter in num_string]\n",
        "\n",
        "from_string_array(num_string)\n",
        "\n",
        "p = 0.5\n",
        "size = 7\n",
        "\n",
        "def random_array(p):\n",
        "  \"\"\"Takes the input of the probability, p, in between 0 and 1 that a 1D array is 1.  Returns the 1D array as either 0 or 1.\"\"\"\n",
        "  a = 0\n",
        "  value = np.random.rand()\n",
        "  #print(value)\n",
        "  if value > p:\n",
        "    a = 1\n",
        "  return [a]\n",
        "\n",
        "def random_array2(p, size):\n",
        "  \"\"\"List comprehension version of the above function.  Takes the probability p, that a value is 1, and the size of the 1D array.\"\"\"\n",
        "  return [1 if p > np.random.rand() else 0 for _ in range(size)]\n",
        "\n",
        "random_array(p)\n",
        "\n",
        "\n",
        "random_array2(p, size)"
      ],
      "metadata": {
        "pycharm": {
          "name": "#%%\n"
        },
        "ExecuteTime": {
          "end_time": "2024-01-03T01:08:15.800407Z",
          "start_time": "2024-01-03T01:08:15.797136Z"
        },
        "colab": {
          "base_uri": "https://localhost:8080/"
        },
        "id": "EA_vZbUpVXfR",
        "outputId": "6323200d-6f41-4ece-bb04-84a3977be0e4"
      }
    },
    {
      "cell_type": "markdown",
      "source": [
        "## Exercise 2: A Cell1D class\n",
        "Develop your own `Cell1D` class that uses the functions above to implement its fundamental operations.\n",
        "The `Cell1D` class from the textbook may provide some ideas, but you may find it more confusing than helpful.\n",
        "The goal here is to improve on the design of that class, so it might be better to just start over...\n",
        "\n",
        "* Initialize a `Cell1D` with a `rule` number and an array representing the CA `start_state`\n",
        "  *Tip*: initialize a 2-D array with just a single row to define the CA's data structure correctly.\n",
        "* Add a `simulate` method that takes the number of steps to simulate as input (note: my solution is just 4 lines of code)\n",
        "  *Tip*: you can reuse the algorithm from `simulate_ca` above.\n",
        "* Add a `step` method.  Unlike the textbook, our `step` method is just a convenience method - it just `simulate`s a single step.\n",
        "* Add a `draw` method.  Just call `plot_ca` to do the actual work.\n",
        "\n",
        "Note: this is *not* a `dataclass` - you will need an `__init__` method."
      ],
      "metadata": {
        "collapsed": false,
        "pycharm": {
          "name": "#%% md\n"
        },
        "id": "eaWZeY_yVXfS"
      }
    },
    {
      "cell_type": "code",
      "execution_count": null,
      "outputs": [
        {
          "output_type": "stream",
          "name": "stdout",
          "text": [
            "[[0 0 0 0 0 0]]\n",
            "[1, 1, 1, 0, 1, 1, 1, 0]\n",
            "[[0, 1, 1], [1, 1, 1], [1, 1, 0], [1, 0, 1], [0, 1, 1], [1, 1, 1], [1, 1, 0], [1, 0, 0]]\n",
            "flipped rule: [0, 0, 0, 0, 1, 0, 0, 1]\n",
            "3 0\n",
            "7 1\n",
            "6 0\n",
            "5 0\n",
            "3 0\n",
            "7 1\n",
            "6 0\n",
            "4 1\n"
          ]
        },
        {
          "output_type": "display_data",
          "data": {
            "text/plain": [
              "<Figure size 640x480 with 1 Axes>"
            ],
            "image/png": "[encoded data removed]"
          },
          "metadata": {}
        }
      ],
      "source": [
        "# Solution for Ex. 2 here...\n",
        "\n",
        "rows = 1\n",
        "columns = 6\n",
        "array1 = np.zeros((rows, columns), dtype=np.uint8)\n",
        "print(array1)\n",
        "\n",
        "length = 11\n",
        "\n",
        "\n",
        "class Cell1D:\n",
        "  \"\"\" A Class that takes the input of various parameters and creates instances to allow the next state of the cellular atomata.\"\"\"\n",
        "\n",
        "  def __init__(self, int_rule, length = 10, start_state = single_centre_array(length), n_steps = 10):\n",
        "    \"\"\"Takes the input of self, the CA rule, and the CA start state as an array.\"\"\"\n",
        "    self.int_rule = int_rule\n",
        "    self.start_state = start_state\n",
        "    self.length = length\n",
        "    self.n_steps = n_steps\n",
        "\n",
        "  def int_to_binary_rule(self, int_rule):\n",
        "    \"\"\"Takes the input of the rule number and converts it to the binary form of the rule.\"\"\"\n",
        "    bin_list = []\n",
        "    while int_rule > 0 :\n",
        "      bin_list.insert(0,int_rule % 2)\n",
        "      int_rule = int_rule // 2\n",
        "    num_empty_zeros = 8 - (len(bin_list))\n",
        "    #empty_zeros = [0] * num_empty_zeros\n",
        "    #bin_list.insert(0, empty_zeros)\n",
        "    for zero in range(num_empty_zeros):\n",
        "      bin_list.insert(0, 0)\n",
        "    return bin_list\n",
        "\n",
        "  def flipped_int_to_binary_rule(self, bin_list):\n",
        "    \"\"\"Takes the input of the binary rule and converts it to the flipped version of the binary rule for simpler formatting of the time step.\"\"\"\n",
        "    flipped_bin_list = []\n",
        "    for index in range(1, 9, 1):\n",
        "      flipped_bin_list.append(bin_list[-index])\n",
        "    return flipped_bin_list\n",
        "\n",
        "  def binary_to_int(self, flipped_start_state):\n",
        "    \"\"\"Takes the input of the flipped binary array and converts it to its integer value.\"\"\"\n",
        "    start_state = flipped_start_state\n",
        "    power = 7\n",
        "    int_counter = 0\n",
        "    for value in range(7, -1, -1):\n",
        "      if start_state[value] == 1:\n",
        "        int_counter = int_counter + (2**power)\n",
        "      power = power - 1\n",
        "    return int_counter\n",
        "\n",
        "  def get_rule(self, int_rule):\n",
        "    bin_list = self.int_to_binary_rule(int_rule)\n",
        "    return self.flipped_int_to_binary_rule(bin_list)\n",
        "\n",
        "  def neighbourhoods(self, flipped_bin_list):\n",
        "    \"\"\"Takes the input of the start state and the inverted binary list and returns the set of neighbourhoods for the initial binary array.\"\"\"\n",
        "    neighbourhood_list = []\n",
        "    index = 1\n",
        "    print(flipped_bin_list)\n",
        "    flipped_bin_list.append(0)\n",
        "    flipped_bin_list.insert(0, 0)\n",
        "    for value in flipped_bin_list[1:9]:\n",
        "      neighbourhood_list.append([flipped_bin_list[index-1], flipped_bin_list[index], flipped_bin_list[index+1]])\n",
        "      index = index + 1\n",
        "    # for i in start_state:\n",
        "    #   window = [i-1, i, i+1]\n",
        "    return neighbourhood_list\n",
        "\n",
        "  def neighbourhoods_to_neighbourhood_count(self, neighbourhood_list):\n",
        "    \"\"\"Takes the input of the list of neighbourhoods, and returns the binary count of the neighbourhood.\"\"\"\n",
        "    neighbourhood_count_list = []\n",
        "    for neighbourhood in neighbourhood_list:\n",
        "      assert len(neighbourhood) == 3 # Ensures that the neighbourhoods are the proper length.\n",
        "      neighbour_count = (neighbourhood[0] * 4) +  (neighbourhood[1] * 2) + (neighbourhood[2] * 1)\n",
        "      neighbourhood_count_list.append(neighbour_count)\n",
        "    return neighbourhood_count_list\n",
        "\n",
        "  def simulate(self, n_cells, n_steps, rule):\n",
        "    \"\"\" Generate a CA with given number of cells, plot progression of rule for given number of time steps \"\"\"\n",
        "    start_state = single_centre_array(n_cells)\n",
        "    # create a stack of \"empty\" state vectors, one for each time step\n",
        "    ca_timesteps = np.vstack([start_state, np.zeros((self.n_steps, len(start_state)), dtype=np.uint8)])\n",
        "    # run the simulation\n",
        "    for t in range(1, self.n_steps):\n",
        "        ca_timesteps[t] = transition(ca_timesteps[t-1], rule)\n",
        "    return ca_timesteps\n",
        "\n",
        "  def step(self, start_state, flipped_bin_list, neighbourhood_count_list):\n",
        "    \"\"\"Takes the input of the start state, the flipped form of the binary rule, and the sum of each neighbourhood to determine the next step of the CA.\"\"\"\n",
        "    #for rows in length:\n",
        "    next_step = [0, 0, 0, 0, 0, 0, 0, 0]\n",
        "    print(\"flipped rule:\", flipped_bin_list)\n",
        "    array1 = np.array(neighbourhood_count_list)\n",
        "    index = 0\n",
        "    for neighbourhood_sum in neighbourhood_count_list:\n",
        "      print(neighbourhood_sum, flipped_bin_list[neighbourhood_sum])\n",
        "      if flipped_bin_list[neighbourhood_sum] == 1:\n",
        "        del (next_step[index])\n",
        "        next_step.insert(index, 1)\n",
        "      # if flipped_bin_list[rule_index] == 0:\n",
        "      #   next_step[index] == 0\n",
        "      index = index + 1\n",
        "    return next_step\n",
        "\n",
        "  def draw(self, length, start_state, next_step):\n",
        "    plot_ca(next_step, axes=None, title='', cmap='Blues', **options)\n",
        "\n",
        "    axes = axes or plt.gca()  # If not axes are provided, draw on current axes\n",
        "    axes.set(\n",
        "        title=title,\n",
        "        ylabel='Time Steps',\n",
        "    )\n",
        "\n",
        "#rule_90 = get_lookup_table(90)\n",
        "\n",
        "\n",
        "# def int_to_binary_rule(int_rule):\n",
        "  #for number_places_exponent in range(7, -1, -1):\n",
        "  #binary_result = int_rule // (2**number_places_exponent)\n",
        "  #int_rule = int_rule - (2**number_places_exponent)\n",
        "  #bin_list.append(binary_result)\n",
        "\n",
        "\n",
        "# print(6 % 2)\n",
        "# print(7//2**3)\n",
        "# print(7//2**2)\n",
        "# print(3//2**1)\n",
        "# print(1//(2**0))\n",
        "\n",
        "# Unit Tests\n",
        "\n",
        "adam = Cell1D(6, length, single_centre_array(length), 1)\n",
        "\n",
        "adam_int1 = Cell1D.int_to_binary_rule(adam, 10)\n",
        "#Cell1D.int_to_binary_rule(adam, 100)\n",
        "\n",
        "#Cell1D.flip_binary_rule(adam, 4)\n",
        "Cell1D.flipped_int_to_binary_rule(adam, adam_int1)\n",
        "\n",
        "ben = Cell1D(6, length, [0, 0, 0, 0, 0, 0, 0, 0], 1)\n",
        "Cell1D.binary_to_int(ben, [0, 0, 0, 0, 0, 0, 0, 0])\n",
        "\n",
        "carson = Cell1D(6, length, [1, 1, 1, 0, 1, 1, 1, 0], 100)\n",
        "neighbourhoods1 = Cell1D.neighbourhoods(carson, [1, 1, 1, 0, 1, 1, 1, 0])\n",
        "print(neighbourhoods1)\n",
        "b = Cell1D.neighbourhoods_to_neighbourhood_count(carson, neighbourhoods1)\n",
        "#ben.binary_to_int([0, 1, 1, 1, 0, 0, 0, 0])\n",
        "\n",
        "#for number_places_exponent in range(7, -1, -1):\n",
        "#int_rule // (2**number_places_exponent)\n",
        "\n",
        "#print([0] * 8)\n",
        "\n",
        "carson.step([1, 1, 1, 0, 1, 1, 1, 0], [0, 0, 0, 0, 1, 0, 0, 1], b)\n",
        "\n",
        "dean = Cell1D(90, length, single_centre_array(length), n_steps = 10)\n",
        "int_rule = Cell1D.int_to_binary_rule(dean, 90)\n",
        "flipped_rule = Cell1D.flipped_int_to_binary_rule(dean, int_rule)\n",
        "\n",
        "# Draw CA\n",
        "\n",
        "number = 110 # rule number\n",
        "\n",
        "ed = Cell1D(number, length, single_centre_array(length), 100)\n",
        "\n",
        "rule_number = get_rule(self, number)\n",
        "ca_timesteps = Cell1D.simulate(ed, 200, 100, rule_number)\n",
        "plot_ca(ca_timesteps, title=f'Rule ' + str(number))"
      ],
      "metadata": {
        "pycharm": {
          "name": "#%%\n"
        },
        "ExecuteTime": {
          "end_time": "2024-01-02T07:20:38.932395Z",
          "start_time": "2024-01-02T07:20:38.899938Z"
        },
        "colab": {
          "base_uri": "https://localhost:8080/",
          "height": 521
        },
        "id": "BI7IMyTaVXfS",
        "outputId": "bfcf066e-c53a-449b-8c39-7e26d0581fd0"
      }
    },
    {
      "cell_type": "markdown",
      "source": [
        "## Run some Experiments\n",
        "With your new `Cell1D` class, run some experiments to explore the Elementary CA's.\n",
        "\n",
        "Wolfram identifies 4 \"classes\" of Elementary Cellular Automata:\n",
        "    a) rapidly converge to a uniform static state.\n",
        "    b) rapidly converge to a stable repeating pattern.\n",
        "    c) generate non-repeating, random states.\n",
        "    d) generate chaos, with areas of repetitive or stable states, but also structures that interact in complex ways.\n",
        "\n",
        "### Exercise 3\n",
        "\n",
        "1. It will be convenient to abstract the steps needed to construct, simulate, and draw a CA - develop a small `experiment` function to do so.\n",
        "\n",
        "2. Identify a rule that exemplifies each of the 4 CA classes.\n",
        "   Create a 2x2 grid of plots that shows an example simulation for each class of CA side-by-side.\n",
        "   You can simply re-purpose the example code below."
      ],
      "metadata": {
        "collapsed": false,
        "pycharm": {
          "name": "#%% md\n"
        },
        "id": "6n_KpQ12VXfT"
      }
    },
    {
      "cell_type": "code",
      "execution_count": null,
      "outputs": [
        {
          "output_type": "display_data",
          "data": {
            "text/plain": [
              "<Figure size 640x480 with 4 Axes>"
            ],
            "image/png": "[encoded data removed]"
          },
          "metadata": {}
        }
      ],
      "source": [
        "# Solution for Ex. 3 here...\n",
        "\n",
        "ca_timesteps_list = []\n",
        "\n",
        "# CA Class A - Rapidly converges to a uniform static state.\n",
        "\n",
        "number1 = 0 # rule number\n",
        "\n",
        "ed = Cell1D(6, length, single_centre_array(length), 100)\n",
        "\n",
        "rule_number = get_lookup_table(number1)\n",
        "ca_timesteps1 = Cell1D.simulate(ed, 200, 100, rule_number)\n",
        "#plot_ca(ca_timesteps1, title=f'Rule ' + str(number1))\n",
        "\n",
        "ca_timesteps_list.append(ca_timesteps1)\n",
        "\n",
        "# CA Class B - Rapidly converges to a stable repeating pattern.\n",
        "\n",
        "number2 = 18 # rule number\n",
        "\n",
        "ed = Cell1D(6, length, single_centre_array(length), 100)\n",
        "\n",
        "rule_number = get_lookup_table(number2)\n",
        "ca_timesteps2 = Cell1D.simulate(ed, 200, 100, rule_number)\n",
        "#plot_ca(ca_timesteps2, title=f'Rule ' + str(number2))\n",
        "\n",
        "ca_timesteps_list.append(ca_timesteps2)\n",
        "\n",
        "# CA Class C - Generates non-repeating random states.\n",
        "\n",
        "number3 = 30 # rule number\n",
        "\n",
        "ed = Cell1D(6, length, single_centre_array(length), 100)\n",
        "\n",
        "rule_number = get_lookup_table(number3)\n",
        "ca_timesteps3 = Cell1D.simulate(ed, 200, 100, rule_number)\n",
        "#plot_ca(ca_timesteps3, title=f'Rule ' + str(number3))\n",
        "\n",
        "ca_timesteps_list.append(ca_timesteps3)\n",
        "\n",
        "# CA Class D - Generates chaos, with areas of repetetive stable states but also structures that interact in complex ways.\n",
        "\n",
        "number4 = 225 # rule number\n",
        "\n",
        "ed = Cell1D(6, length, single_centre_array(length), 100)\n",
        "\n",
        "rule_number = get_lookup_table(number4)\n",
        "ca_timesteps4 = Cell1D.simulate(ed, 200, 100, rule_number)\n",
        "#plot_ca(ca_timesteps4, title=f'Rule ' + str(number4))\n",
        "\n",
        "ca_timesteps_list.append(ca_timesteps4)\n",
        "\n",
        "# Plots the four CA's at the same time.\n",
        "\n",
        "def axes_layout(nrows=1, ncols=1, fig_title=None, **kwargs):\n",
        "    \"\"\" layout nrows x ncols axes with sensible defaults.  kwargs passed directly to `plt.subplots()`\"\"\"\n",
        "    kwargs = {**dict(layout='tight'), **kwargs}\n",
        "    fig, axes = plt.subplots(nrows=nrows, ncols=ncols, **kwargs)\n",
        "    if fig_title:\n",
        "        fig.suptitle(fig_title)\n",
        "    return axes\n",
        "\n",
        "# Example: plot 4 plots in a 2x2 grid - plots are labelled so it's clear which is which.\n",
        "axes = axes_layout(2, 2, fig_title='Examples of the Four Classes of Cellular Atomata')\n",
        "index = 0\n",
        "for ax, title in zip(axes.flat, ('CA - Class A', 'CA - Class B', 'CA - Class C', 'CA - Class D' )):\n",
        "    plot_ca(ca_timesteps_list[index], axes=ax, title=f'{title}')\n",
        "    index = index + 1"
      ],
      "metadata": {
        "pycharm": {
          "name": "#%%\n"
        },
        "ExecuteTime": {
          "end_time": "2024-01-02T07:20:38.932659Z",
          "start_time": "2024-01-02T07:20:38.909421Z"
        },
        "id": "PyGIljXsVXfU",
        "colab": {
          "base_uri": "https://localhost:8080/",
          "height": 445
        },
        "outputId": "739f929d-a760-443c-cc7b-1fbed12868a4"
      }
    },
    {
      "cell_type": "markdown",
      "source": [],
      "metadata": {
        "id": "qSE-fWBCfAx5"
      }
    },
    {
      "cell_type": "markdown",
      "source": [
        "#### Sample code for creating a 2x2 grid of plots"
      ],
      "metadata": {
        "collapsed": false,
        "pycharm": {
          "name": "#%% md\n"
        },
        "id": "KvNL-h4ZVXfU"
      }
    },
    {
      "cell_type": "code",
      "execution_count": null,
      "outputs": [
        {
          "output_type": "display_data",
          "data": {
            "text/plain": [
              "<Figure size 640x480 with 4 Axes>"
            ],
            "image/png": "[encoded data removed]"
          },
          "metadata": {}
        }
      ],
      "source": [
        "def axes_layout(nrows=1, ncols=1, fig_title=None, **kwargs):\n",
        "    \"\"\" layout nrows x ncols axes with sensible defaults.  kwargs passed directly to `plt.subplots()`\"\"\"\n",
        "    kwargs = {**dict(layout='tight'), **kwargs}\n",
        "    fig, axes = plt.subplots(nrows=nrows, ncols=ncols, **kwargs)\n",
        "    if fig_title:\n",
        "        fig.suptitle(fig_title)\n",
        "    return axes\n",
        "\n",
        "# Example: plot 4 plots in a 2x2 grid - plots are labelled so it's clear which is which.\n",
        "axes = axes_layout(2, 2, fig_title='Sample Plot of 2 x 2 grid of images')\n",
        "for ax, title in zip(axes.flat, ('top-left', 'top-right', 'bottom-left', 'bottom-right' )):\n",
        "    plot_ca(ca_timesteps, axes=ax, title=f'This is plot {title}')"
      ],
      "metadata": {
        "pycharm": {
          "name": "#%%\n"
        },
        "ExecuteTime": {
          "end_time": "2024-01-02T07:20:39.309417Z",
          "start_time": "2024-01-02T07:20:38.915516Z"
        },
        "id": "tbYZeYJZVXfU",
        "colab": {
          "base_uri": "https://localhost:8080/",
          "height": 445
        },
        "outputId": "936fb349-c114-41c1-cec3-e972849d6e33"
      }
    },
    {
      "cell_type": "markdown",
      "source": [
        "## Exercise 4:  Thought Experiments\n",
        "Think about some of the questions that arise from this experiment.  Provide some concise answer that capture you thinking...\n",
        "1. What is it about these experiments that requires computation?\n",
        "Is there some other means by which we could conduct experiments like this?\n",
        "\n",
        "2. What conclusions can you draw about the conditions under which complex behaviours can arise?\n",
        "Do you think these conclusions are mostly intuitive or counter-intuitive?\n",
        "\n",
        "3. What lessons might we take about studying complex phenomena in the real world from our study of elementary cellular automata?"
      ],
      "metadata": {
        "collapsed": false,
        "pycharm": {
          "name": "#%% md\n"
        },
        "id": "BiHSCpUCVXfV"
      }
    },
    {
      "cell_type": "markdown",
      "source": [
        "### Answers\n",
        "(concise, point-form -- there are no wrong answers, I'd just like to hear what you think)\n",
        "\n",
        "1. These experiments require computation because there is no closed form solution for all rules, especially the rules in class 3 and 4.  The only way to know what happens in the rules is to actually complete the timesteps of the CA.\n",
        "\n",
        "2. Complex behaviours are arise out of simple situations.  For me, this is counter-intuitive.  \n",
        "\n",
        "3. It seems to me that we can study many complex processes in the real world from our study of elementary cellular atomata, that appear to be random and don't have a closed-form solution.  "
      ],
      "metadata": {
        "collapsed": false,
        "pycharm": {
          "name": "#%% md\n"
        },
        "id": "yAXBAbx8VXfV"
      }
    }
  ],
  "metadata": {
    "kernelspec": {
      "display_name": "Python 3",
      "language": "python",
      "name": "python3"
    },
    "language_info": {
      "codemirror_mode": {
        "name": "ipython",
        "version": 2
      },
      "file_extension": ".py",
      "mimetype": "text/x-python",
      "name": "python",
      "nbconvert_exporter": "python",
      "pygments_lexer": "ipython2",
      "version": "2.7.6"
    },
    "colab": {
      "provenance": []
    }
  },
  "nbformat": 4,
  "nbformat_minor": 0
}