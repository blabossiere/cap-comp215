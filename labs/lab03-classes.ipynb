{
  "nbformat": 4,
  "nbformat_minor": 0,
  "metadata": {
    "colab": {
      "name": "Lab2-NEO.ipynb",
      "provenance": []
    },
    "kernelspec": {
      "name": "python3",
      "language": "python",
      "display_name": "Python 3 (ipykernel)"
    },
    "language_info": {
      "name": "python"
    }
  },
  "cells": [
    {
      "cell_type": "markdown",
      "source": [
        "COMP 215 - LAB 3 Classes (NEO)\n",
        "----------------\n",
        "#### Name:\n",
        "#### Date:\n",
        "\n",
        "This lab exercise introduces `class` as a means of organizing related data and functions.\n",
        "\n",
        "**Building on new concepts from lab 2**:\n",
        "  * a `record` is a related collection of data, with fields for each data value\n",
        "  * an `API` is an \"Application Programmers Interface\" defining how a programmer interacts with a system.\n",
        "  * *f-string* simplifies string formatting operations\n",
        "\n",
        "**New Python Concepts**:\n",
        "  * the `class` keyword allows you define a new data `type`, with a set of operations on that data.\n",
        "  * a `dataclass` simplifies class definition for classes that primarily encapsulate a data structure.\n",
        "\n",
        "As usual, the first code cell simply imports all the modules we'll be using..."
      ],
      "metadata": {
        "id": "nbRPZPKZU5Pk"
      }
    },
    {
      "cell_type": "code",
      "execution_count": 45,
      "outputs": [],
      "source": [
        "import datetime, json, requests\n",
        "from pprint import pprint    # Pretty Print - built-in python function to nicely format data structures"
      ],
      "metadata": {
        "pycharm": {
          "name": "#%%\n"
        },
        "ExecuteTime": {
          "end_time": "2024-01-04T04:10:54.380220Z",
          "start_time": "2024-01-04T04:10:54.335677Z"
        },
        "id": "GRlXa5RCMFAs"
      }
    },
    {
      "cell_type": "markdown",
      "source": [
        "We'll continue working with [Near Earth Object](https://cneos.jpl.nasa.gov/) data\n",
        "> using NASA's API:  [https://api.nasa.gov/](https://api.nasa.gov/#NeoWS)\n",
        "\n",
        "Here's a brief review from Lab 2 on how to use it..."
      ],
      "metadata": {
        "collapsed": false,
        "pycharm": {
          "name": "#%% md\n"
        },
        "id": "3_ho0JM-MFAu"
      }
    },
    {
      "cell_type": "markdown",
      "source": [
        "### Review: making a query\n",
        "\n",
        "Here's a query that gets the record for a single NEO that recently passed by."
      ],
      "metadata": {
        "collapsed": false,
        "pycharm": {
          "name": "#%% md\n"
        },
        "id": "n_d4axYeMFAy"
      }
    },
    {
      "cell_type": "code",
      "execution_count": 46,
      "outputs": [
        {
          "output_type": "stream",
          "name": "stdout",
          "text": [
            "118 Near Earth Objects found for week of 2023-01-15\n",
            "{'links': {'self': 'http://api.nasa.gov/neo/rest/v1/neo/54339874?api_key=DEMO_KEY'}, 'id': '54339874', 'neo_reference_id': '54339874', 'name': '(2023 BM1)', 'designation': '2023 BM1', 'nasa_jpl_url': 'https://ssd.jpl.nasa.gov/tools/sbdb_lookup.html#/?sstr=54339874', 'absolute_magnitude_h': 24.86, 'estimated_diameter': {'kilometers': {'estimated_diameter_min': 0.0283501249, 'estimated_diameter_max': 0.0633928065}, 'meters': {'estimated_diameter_min': 28.3501249023, 'estimated_diameter_max': 63.3928064522}, 'miles': {'estimated_diameter_min': 0.0176159455, 'estimated_diameter_max': 0.0393904515}, 'feet': {'estimated_diameter_min': 93.0122237845, 'estimated_diameter_max': 207.9816551205}}, 'is_potentially_hazardous_asteroid': False, 'close_approach_data': [{'close_approach_date': '1949-07-04', 'close_approach_date_full': '1949-Jul-04 22:19', 'epoch_date_close_approach': -646710060000, 'relative_velocity': {'kilometers_per_second': '20.4193538659', 'kilometers_per_hour': '73509.6739172087', 'miles_per_hour': '45676.0526626122'}, 'miss_distance': {'astronomical': '0.419726307', 'lunar': '163.273533423', 'kilometers': '62790161.51016609', 'miles': '39015997.166588442'}, 'orbiting_body': 'Earth'}, {'close_approach_date': '1950-08-07', 'close_approach_date_full': '1950-Aug-07 12:47', 'epoch_date_close_approach': -612270780000, 'relative_velocity': {'kilometers_per_second': '11.1844693277', 'kilometers_per_hour': '40264.0895797362', 'miles_per_hour': '25018.5394391422'}, 'miss_distance': {'astronomical': '0.2356866436', 'lunar': '91.6821043604', 'kilometers': '35258219.870009132', 'miles': '21908441.9192727416'}, 'orbiting_body': 'Earth'}, {'close_approach_date': '1951-01-22', 'close_approach_date_full': '1951-Jan-22 19:42', 'epoch_date_close_approach': -597730680000, 'relative_velocity': {'kilometers_per_second': '10.9888695377', 'kilometers_per_hour': '39559.930335599', 'miles_per_hour': '24581.002268806'}, 'miss_distance': {'astronomical': '0.1812442846', 'lunar': '70.5040267094', 'kilometers': '27113758.925833802', 'miles': '16847708.5578863876'}, 'orbiting_body': 'Earth'}, {'close_approach_date': '1952-01-27', 'close_approach_date_full': '1952-Jan-27 01:08', 'epoch_date_close_approach': -565829520000, 'relative_velocity': {'kilometers_per_second': '22.1502058617', 'kilometers_per_hour': '79740.741102017', 'miles_per_hour': '49547.7954919728'}, 'miss_distance': {'astronomical': '0.4865554066', 'lunar': '189.2700531674', 'kilometers': '72787652.464343942', 'miles': '45228149.9841607196'}, 'orbiting_body': 'Earth'}, {'close_approach_date': '1982-01-18', 'close_approach_date_full': '1982-Jan-18 03:11', 'epoch_date_close_approach': 380171460000, 'relative_velocity': {'kilometers_per_second': '12.1057110026', 'kilometers_per_hour': '43580.5596094554', 'miles_per_hour': '27079.2649417752'}, 'miss_distance': {'astronomical': '0.0840484105', 'lunar': '32.6948316845', 'kilometers': '12573463.187685635', 'miles': '7812787.741046363'}, 'orbiting_body': 'Earth'}, {'close_approach_date': '1990-07-06', 'close_approach_date_full': '1990-Jul-06 13:53', 'epoch_date_close_approach': 647272380000, 'relative_velocity': {'kilometers_per_second': '19.7759249398', 'kilometers_per_hour': '71193.3297832904', 'miles_per_hour': '44236.7664978451'}, 'miss_distance': {'astronomical': '0.3935002201', 'lunar': '153.0715856189', 'kilometers': '58866794.771491187', 'miles': '36578130.1205729006'}, 'orbiting_body': 'Earth'}, {'close_approach_date': '1991-08-09', 'close_approach_date_full': '1991-Aug-09 18:05', 'epoch_date_close_approach': 681761100000, 'relative_velocity': {'kilometers_per_second': '11.3898252175', 'kilometers_per_hour': '41003.370782865', 'miles_per_hour': '25477.9000289419'}, 'miss_distance': {'astronomical': '0.2675469468', 'lunar': '104.0757623052', 'kilometers': '40024453.366283316', 'miles': '24870042.0826331208'}, 'orbiting_body': 'Earth'}, {'close_approach_date': '1992-01-21', 'close_approach_date_full': '1992-Jan-21 18:11', 'epoch_date_close_approach': 696017460000, 'relative_velocity': {'kilometers_per_second': '11.0627289144', 'kilometers_per_hour': '39825.8240917349', 'miles_per_hour': '24746.218308556'}, 'miss_distance': {'astronomical': '0.1547346985', 'lunar': '60.1917977165', 'kilometers': '23147981.310692195', 'miles': '14383488.615234491'}, 'orbiting_body': 'Earth'}, {'close_approach_date': '2001-07-31', 'close_approach_date_full': '2001-Jul-31 11:31', 'epoch_date_close_approach': 996579060000, 'relative_velocity': {'kilometers_per_second': '11.1052691099', 'kilometers_per_hour': '39978.9687958168', 'miles_per_hour': '24841.3764720451'}, 'miss_distance': {'astronomical': '0.1155283623', 'lunar': '44.9405329347', 'kilometers': '17282796.924668301', 'miles': '10739032.0334565138'}, 'orbiting_body': 'Earth'}, {'close_approach_date': '2002-01-29', 'close_approach_date_full': '2002-Jan-29 22:33', 'epoch_date_close_approach': 1012343580000, 'relative_velocity': {'kilometers_per_second': '11.0057537506', 'kilometers_per_hour': '39620.7135020855', 'miles_per_hour': '24618.7705646708'}, 'miss_distance': {'astronomical': '0.2762531188', 'lunar': '107.4624632132', 'kilometers': '41326878.153336956', 'miles': '25679331.3180677528'}, 'orbiting_body': 'Earth'}, {'close_approach_date': '2003-01-23', 'close_approach_date_full': '2003-Jan-23 11:27', 'epoch_date_close_approach': 1043321220000, 'relative_velocity': {'kilometers_per_second': '19.2759435907', 'kilometers_per_hour': '69393.3969265301', 'miles_per_hour': '43118.3582180431'}, 'miss_distance': {'astronomical': '0.3790978223', 'lunar': '147.4690528747', 'kilometers': '56712226.737718501', 'miles': '35239343.6247412738'}, 'orbiting_body': 'Earth'}, {'close_approach_date': '2011-07-25', 'close_approach_date_full': '2011-Jul-25 00:38', 'epoch_date_close_approach': 1311554280000, 'relative_velocity': {'kilometers_per_second': '12.2933988847', 'kilometers_per_hour': '44256.2359849621', 'miles_per_hour': '27499.1039652116'}, 'miss_distance': {'astronomical': '0.0238528057', 'lunar': '9.2787414173', 'kilometers': '3568328.926243859', 'miles': '2217256.7792048942'}, 'orbiting_body': 'Earth'}, {'close_approach_date': '2013-01-19', 'close_approach_date_full': '2013-Jan-19 19:12', 'epoch_date_close_approach': 1358622720000, 'relative_velocity': {'kilometers_per_second': '15.8453286581', 'kilometers_per_hour': '57043.1831690909', 'miles_per_hour': '35444.4156752609'}, 'miss_distance': {'astronomical': '0.2380478856', 'lunar': '92.6006274984', 'kilometers': '35611456.643763672', 'miles': '22127933.0725437936'}, 'orbiting_body': 'Earth'}, {'close_approach_date': '2021-07-13', 'close_approach_date_full': '2021-Jul-13 03:13', 'epoch_date_close_approach': 1626145980000, 'relative_velocity': {'kilometers_per_second': '16.5197167177', 'kilometers_per_hour': '59470.980183787', 'miles_per_hour': '36952.9543258647'}, 'miss_distance': {'astronomical': '0.2543704179', 'lunar': '98.9500925631', 'kilometers': '38053272.708849873', 'miles': '23645207.2184513274'}, 'orbiting_body': 'Earth'}, {'close_approach_date': '2022-08-21', 'close_approach_date_full': '2022-Aug-21 03:08', 'epoch_date_close_approach': 1661051280000, 'relative_velocity': {'kilometers_per_second': '12.9111643102', 'kilometers_per_hour': '46480.1915168032', 'miles_per_hour': '28880.9834455381'}, 'miss_distance': {'astronomical': '0.3981833179', 'lunar': '154.8933106631', 'kilometers': '59567376.227372873', 'miles': '37013451.2511487274'}, 'orbiting_body': 'Earth'}, {'close_approach_date': '2023-01-18', 'close_approach_date_full': '2023-Jan-18 17:45', 'epoch_date_close_approach': 1674063900000, 'relative_velocity': {'kilometers_per_second': '11.9219119974', 'kilometers_per_hour': '42918.8831905878', 'miles_per_hour': '26668.1249469516'}, 'miss_distance': {'astronomical': '0.0823813629', 'lunar': '32.0463501681', 'kilometers': '12324076.417537023', 'miles': '7657825.9877479974'}, 'orbiting_body': 'Earth'}, {'close_approach_date': '2031-07-02', 'close_approach_date_full': '2031-Jul-02 11:54', 'epoch_date_close_approach': 1940759640000, 'relative_velocity': {'kilometers_per_second': '22.1138944359', 'kilometers_per_hour': '79610.0199691849', 'miles_per_hour': '49466.5704636305'}, 'miss_distance': {'astronomical': '0.4867163563', 'lunar': '189.3326626007', 'kilometers': '72811730.196641081', 'miles': '45243111.1932496778'}, 'orbiting_body': 'Earth'}, {'close_approach_date': '2032-08-02', 'close_approach_date_full': '2032-Aug-02 16:31', 'epoch_date_close_approach': 1975077060000, 'relative_velocity': {'kilometers_per_second': '11.0103366209', 'kilometers_per_hour': '39637.2118350823', 'miles_per_hour': '24629.0219871932'}, 'miss_distance': {'astronomical': '0.1612713598', 'lunar': '62.7345589622', 'kilometers': '24125851.918083626', 'miles': '14991109.2349249988'}, 'orbiting_body': 'Earth'}, {'close_approach_date': '2033-01-26', 'close_approach_date_full': '2033-Jan-26 13:52', 'epoch_date_close_approach': 1990360320000, 'relative_velocity': {'kilometers_per_second': '10.9915345018', 'kilometers_per_hour': '39569.5242063302', 'miles_per_hour': '24586.9635269834'}, 'miss_distance': {'astronomical': '0.2404366225', 'lunar': '93.5298461525', 'kilometers': '35968806.595994075', 'miles': '22349980.036405235'}, 'orbiting_body': 'Earth'}, {'close_approach_date': '2034-01-24', 'close_approach_date_full': '2034-Jan-24 13:13', 'epoch_date_close_approach': 2021721180000, 'relative_velocity': {'kilometers_per_second': '20.1745669597', 'kilometers_per_hour': '72628.4410549992', 'miles_per_hour': '45128.4888322021'}, 'miss_distance': {'astronomical': '0.4123535311', 'lunar': '160.4055235979', 'kilometers': '61687209.939538757', 'miles': '38330654.8403465666'}, 'orbiting_body': 'Earth'}, {'close_approach_date': '2042-07-22', 'close_approach_date_full': '2042-Jul-22 11:23', 'epoch_date_close_approach': 2289640980000, 'relative_velocity': {'kilometers_per_second': '12.9643206122', 'kilometers_per_hour': '46671.5542040525', 'miles_per_hour': '28999.8887775125'}, 'miss_distance': {'astronomical': '0.0690857369', 'lunar': '26.8743516541', 'kilometers': '10335079.087620403', 'miles': '6421920.3566434414'}, 'orbiting_body': 'Earth'}, {'close_approach_date': '2044-01-19', 'close_approach_date_full': '2044-Jan-19 20:08', 'epoch_date_close_approach': 2336846880000, 'relative_velocity': {'kilometers_per_second': '14.762977905', 'kilometers_per_hour': '53146.7204581278', 'miles_per_hour': '33023.3052757739'}, 'miss_distance': {'astronomical': '0.1905869801', 'lunar': '74.1383352589', 'kilometers': '28511406.272692387', 'miles': '17716166.3483014606'}, 'orbiting_body': 'Earth'}, {'close_approach_date': '2052-07-09', 'close_approach_date_full': '2052-Jul-09 10:53', 'epoch_date_close_approach': 2604135180000, 'relative_velocity': {'kilometers_per_second': '18.1821007881', 'kilometers_per_hour': '65455.5628370156', 'miles_per_hour': '40671.5412528112'}, 'miss_distance': {'astronomical': '0.3275236394', 'lunar': '127.4066957266', 'kilometers': '48996838.828888078', 'miles': '30445223.8844803564'}, 'orbiting_body': 'Earth'}, {'close_approach_date': '2053-08-12', 'close_approach_date_full': '2053-Aug-12 20:57', 'epoch_date_close_approach': 2638645020000, 'relative_velocity': {'kilometers_per_second': '11.9140467475', 'kilometers_per_hour': '42890.568291041', 'miles_per_hour': '26650.5311695083'}, 'miss_distance': {'astronomical': '0.3222809653', 'lunar': '125.3672955017', 'kilometers': '48212545.950423911', 'miles': '29957886.8879195318'}, 'orbiting_body': 'Earth'}, {'close_approach_date': '2054-01-19', 'close_approach_date_full': '2054-Jan-19 19:35', 'epoch_date_close_approach': 2652464100000, 'relative_velocity': {'kilometers_per_second': '11.3005024701', 'kilometers_per_hour': '40681.8088924745', 'miles_per_hour': '25278.0939754378'}, 'miss_distance': {'astronomical': '0.114777459', 'lunar': '44.648431551', 'kilometers': '17170463.39041233', 'miles': '10669231.211976954'}, 'orbiting_body': 'Earth'}, {'close_approach_date': '2063-07-28', 'close_approach_date_full': '2063-Jul-28 17:25', 'epoch_date_close_approach': 2952869100000, 'relative_velocity': {'kilometers_per_second': '11.5126719542', 'kilometers_per_hour': '41445.6190351682', 'miles_per_hour': '25752.69589438'}, 'miss_distance': {'astronomical': '0.0529563645', 'lunar': '20.6000257905', 'kilometers': '7922159.332143615', 'miles': '4922601.544927287'}, 'orbiting_body': 'Earth'}, {'close_approach_date': '2064-02-05', 'close_approach_date_full': '2064-Feb-05 04:14', 'epoch_date_close_approach': 2969410440000, 'relative_velocity': {'kilometers_per_second': '11.0548742333', 'kilometers_per_hour': '39797.54723997', 'miles_per_hour': '24728.6481725247'}, 'miss_distance': {'astronomical': '0.3260446842', 'lunar': '126.8313821538', 'kilometers': '48775590.281142654', 'miles': '30307746.4118264652'}, 'orbiting_body': 'Earth'}, {'close_approach_date': '2065-01-21', 'close_approach_date_full': '2065-Jan-21 12:00', 'epoch_date_close_approach': 2999764800000, 'relative_velocity': {'kilometers_per_second': '17.5105677078', 'kilometers_per_hour': '63038.0437482442', 'miles_per_hour': '39169.3889056798'}, 'miss_distance': {'astronomical': '0.3082705725', 'lunar': '119.9172527025', 'kilometers': '46116621.029680575', 'miles': '28655539.532818935'}, 'orbiting_body': 'Earth'}, {'close_approach_date': '2073-07-17', 'close_approach_date_full': '2073-Jul-17 07:12', 'epoch_date_close_approach': 3267501120000, 'relative_velocity': {'kilometers_per_second': '14.7619191525', 'kilometers_per_hour': '53142.9089491476', 'miles_per_hour': '33020.936952319'}, 'miss_distance': {'astronomical': '0.1702714735', 'lunar': '66.2356031915', 'kilometers': '25472249.757361445', 'miles': '15827722.058000141'}, 'orbiting_body': 'Earth'}, {'close_approach_date': '2075-01-18', 'close_approach_date_full': '2075-Jan-18 14:58', 'epoch_date_close_approach': 3315049080000, 'relative_velocity': {'kilometers_per_second': '13.0564395686', 'kilometers_per_hour': '47003.1824467958', 'miles_per_hour': '29205.9496708993'}, 'miss_distance': {'astronomical': '0.1124377163', 'lunar': '43.7382716407', 'kilometers': '16820442.866144281', 'miles': '10451738.5434658378'}, 'orbiting_body': 'Earth'}, {'close_approach_date': '2083-07-07', 'close_approach_date_full': '2083-Jul-07 14:15', 'epoch_date_close_approach': 3582195300000, 'relative_velocity': {'kilometers_per_second': '19.5629147246', 'kilometers_per_hour': '70426.4930085546', 'miles_per_hour': '43760.2839474544'}, 'miss_distance': {'astronomical': '0.3844804977', 'lunar': '149.5629136053', 'kilometers': '57517463.512459899', 'miles': '35739694.5549846462'}, 'orbiting_body': 'Earth'}, {'close_approach_date': '2085-01-21', 'close_approach_date_full': '2085-Jan-21 04:59', 'epoch_date_close_approach': 3630891540000, 'relative_velocity': {'kilometers_per_second': '11.0814547041', 'kilometers_per_hour': '39893.2369346916', 'miles_per_hour': '24788.1060275588'}, 'miss_distance': {'astronomical': '0.1526960535', 'lunar': '59.3987648115', 'kilometers': '22843004.361006045', 'miles': '14193984.726111621'}, 'orbiting_body': 'Earth'}, {'close_approach_date': '2096-01-22', 'close_approach_date_full': '2096-Jan-22 06:43', 'epoch_date_close_approach': 3978052980000, 'relative_velocity': {'kilometers_per_second': '17.6194001795', 'kilometers_per_hour': '63429.8406460211', 'miles_per_hour': '39412.8362614124'}, 'miss_distance': {'astronomical': '0.3131415381', 'lunar': '121.8120583209', 'kilometers': '46845307.108283847', 'miles': '29108324.0661652086'}, 'orbiting_body': 'Earth'}, {'close_approach_date': '2104-07-20', 'close_approach_date_full': '2104-Jul-20 13:54', 'epoch_date_close_approach': 4246005240000, 'relative_velocity': {'kilometers_per_second': '13.8356402609', 'kilometers_per_hour': '49808.3049391986', 'miles_per_hour': '30948.9436995815'}, 'miss_distance': {'astronomical': '0.1204030569', 'lunar': '46.8367891341', 'kilometers': '18012040.853728803', 'miles': '11192163.1990033614'}, 'orbiting_body': 'Earth'}, {'close_approach_date': '2106-01-19', 'close_approach_date_full': '2106-Jan-19 19:52', 'epoch_date_close_approach': 4293373920000, 'relative_velocity': {'kilometers_per_second': '13.9980767994', 'kilometers_per_hour': '50393.0764778321', 'miles_per_hour': '31312.2979925729'}, 'miss_distance': {'astronomical': '0.1561116849', 'lunar': '60.7274454261', 'kilometers': '23353975.543151163', 'miles': '14511487.4958975294'}, 'orbiting_body': 'Earth'}, {'close_approach_date': '2114-07-12', 'close_approach_date_full': '2114-Jul-12 16:04', 'epoch_date_close_approach': 4560854640000, 'relative_velocity': {'kilometers_per_second': '17.4401465834', 'kilometers_per_hour': '62784.5277001417', 'miles_per_hour': '39011.8638923464'}, 'miss_distance': {'astronomical': '0.2956270353', 'lunar': '114.9989167317', 'kilometers': '44225174.795294811', 'miles': '27480249.3417019518'}, 'orbiting_body': 'Earth'}, {'close_approach_date': '2116-01-20', 'close_approach_date_full': '2116-Jan-20 12:56', 'epoch_date_close_approach': 4608968160000, 'relative_velocity': {'kilometers_per_second': '11.6241172546', 'kilometers_per_hour': '41846.8221164506', 'miles_per_hour': '26001.9878867467'}, 'miss_distance': {'astronomical': '0.0912510077', 'lunar': '35.4966419953', 'kilometers': '13650956.387273599', 'miles': '8482310.9690657062'}, 'orbiting_body': 'Earth'}], 'orbital_data': {'orbit_id': '4', 'orbit_determination_date': '2023-01-31 04:51:17', 'first_observation_date': '2023-01-22', 'last_observation_date': '2023-01-31', 'data_arc_in_days': 9, 'observations_used': 26, 'orbit_uncertainty': '7', 'minimum_orbit_intersection': '.0132623', 'jupiter_tisserand_invariant': '5.695', 'epoch_osculation': '2460200.5', 'eccentricity': '.1747009364600186', 'semi_major_axis': '1.070003965363194', 'inclination': '21.24987630468683', 'ascending_node_longitude': '303.2708303092634', 'orbital_period': '404.2746479574399', 'perihelion_distance': '.8830732705983106', 'perihelion_argument': '78.13237247110527', 'aphelion_distance': '1.256934660128077', 'perihelion_time': '2460281.541347544409', 'mean_anomaly': '287.8339978443106', 'mean_motion': '.8904837387624145', 'equinox': 'J2000', 'orbit_class': {'orbit_class_type': 'APO', 'orbit_class_description': 'Near-Earth asteroid orbits which cross the Earth’s orbit similar to that of 1862 Apollo', 'orbit_class_range': 'a (semi-major axis) > 1.0 AU; q (perihelion) < 1.017 AU'}}, 'is_sentry_object': False}\n"
          ]
        }
      ],
      "source": [
        "API_KEY = 'DEMO_KEY'  # substitute your API key here\n",
        "\n",
        "def get_neos(start_date):\n",
        "    \"\"\" Return a list of NEO for the week starting at start_date \"\"\"\n",
        "    url = f'https://api.nasa.gov/neo/rest/v1/feed?start_date={start_date}&api_key={API_KEY}'\n",
        "    # Fetch last week's NEO feed\n",
        "    response = requests.request(\"GET\", url, headers={}, data={})\n",
        "    data = json.loads(response.text)\n",
        "    print(f'{data[\"element_count\"]} Near Earth Objects found for week of {start_date}')\n",
        "    return [neo for dated_records in data['near_earth_objects'].values() for neo in dated_records ]\n",
        "\n",
        "def get_neo(id):\n",
        "    \"\"\" Return a NEO record for the given id \"\"\"\n",
        "    url = f'https://api.nasa.gov/neo/rest/v1/neo/{id}?api_key={API_KEY}'\n",
        "    response = requests.request(\"GET\", url, headers={}, data={})\n",
        "    return json.loads(response.text)\n",
        "\n",
        "week_start = '2023-01-15'\n",
        "neos = get_neos(week_start)\n",
        "assert len(neos) > 0, f'Oh oh!  No NEOs found for {week_start}'\n",
        "neo = get_neo(neos[-1]['id'])  # get the very latest NEO\n",
        "#pprint(neo)\n",
        "print(neo)"
      ],
      "metadata": {
        "pycharm": {
          "name": "#%%\n"
        },
        "ExecuteTime": {
          "end_time": "2024-01-04T04:11:12.889668Z",
          "start_time": "2024-01-04T04:10:54.383166Z"
        },
        "id": "vE4vC3OjMFA0",
        "outputId": "47e6cec8-f89e-48d4-ee8d-643eac8ba336",
        "colab": {
          "base_uri": "https://localhost:8080/"
        }
      }
    },
    {
      "cell_type": "markdown",
      "source": [
        "## Exercise 1:  Define an Asteroid class\n",
        "\n",
        "Define a simple Asteroid class with some basic state variables for a single NEO.  Your Asteroid class should define at least 4 \"state variables:”\n",
        "\n",
        "    id\n",
        "    name\n",
        "    estimated_diameter (m)\n",
        "    is_potentially_hazardous (bool)\n",
        "\n",
        "Operations must include:\n",
        "* `__init__(self, ...)` method to initialize a new Asteroid object with specific data values\n",
        "* `__str__(self)`, and `__repr__(self)` methods that return nicely formatted string representations of the object.\n",
        "  \n",
        "OR...\n",
        "use a `@dataclass` and it will supply most of that boilerplate code for you!\n",
        "\n",
        "Write a little code to test your new class."
      ],
      "metadata": {
        "collapsed": false,
        "pycharm": {
          "name": "#%% md\n"
        },
        "id": "tdkc4ON5MFA3"
      }
    },
    {
      "cell_type": "code",
      "execution_count": 47,
      "outputs": [
        {
          "output_type": "stream",
          "name": "stdout",
          "text": [
            "100\n",
            "Halley's Comet\n",
            "5\n",
            "True\n",
            "100 Halley's Comet 5 True\n",
            "<class '__main__.Asteroid'>\n",
            "100\n",
            "<class 'str'>\n",
            "Halley's Comet\n",
            "id:100 name:Halley's Comet estimated_diameter:5m is_potentially_hazarous:True\n"
          ]
        }
      ],
      "source": [
        "# Ex.1 your code here\n",
        "\n",
        "class Asteroid:\n",
        "  \"\"\"A class that defines some basic simple variables for a single NEO that is inputted.\"\"\"\n",
        "\n",
        "  def __init__(self, id, name, estimated_diameter, is_potentially_hazardous):\n",
        "    self.id = id\n",
        "    self.name = name\n",
        "    self.estimated_diameter = estimated_diameter\n",
        "    self.is_potentially_hazardous = is_potentially_hazardous\n",
        "\n",
        "  def id(self):\n",
        "    \"\"\"Return the id of the NEO\"\"\"\n",
        "    return self.id\n",
        "\n",
        "  def name(self):\n",
        "    \"\"\"Return the name of the NEO\"\"\"\n",
        "    return self.name\n",
        "\n",
        "  def estimated_diameter(self):\n",
        "    \"\"\"Return the estimated diameter of the NEO\"\"\"\n",
        "    return self.estimated_diameter\n",
        "\n",
        "  def is_potentially_hazardous(self):\n",
        "    \"\"\"Return 'True' if the NEO is potentially hazardous, and return False otherwise\"\"\"\n",
        "    if self.is_potentially_hazardous == True:\n",
        "      return True\n",
        "    if self.is_potentially_hazardous == False:\n",
        "      return False\n",
        "\n",
        "  def __str__(self):\n",
        "    return \"id:\" + str(self.id) + \" name:\" + str(self.name) + \" estimated_diameter:\" + str(self.estimated_diameter) + \"m\" + \" is_potentially_hazarous:\" + str(self.is_potentially_hazardous)\n",
        "\n",
        "a = Asteroid('100', \"Halley's Comet\", '5', 'True')\n",
        "print(a.id)\n",
        "print(a.name)\n",
        "print(a.estimated_diameter)\n",
        "print(a.is_potentially_hazardous)\n",
        "print(a.id, a.name, a.estimated_diameter, a.is_potentially_hazardous)\n",
        "print(type(a))\n",
        "print(a.id)\n",
        "print(type(a.id))\n",
        "print(a.name)\n",
        "print(a)"
      ],
      "metadata": {
        "pycharm": {
          "name": "#%%\n"
        },
        "ExecuteTime": {
          "end_time": "2024-01-04T04:11:12.891665Z",
          "start_time": "2024-01-04T04:11:12.889274Z"
        },
        "id": "BgxkDo8EMFA4",
        "outputId": "35e10cb4-15f5-4248-b02c-e1d8f243cb5c",
        "colab": {
          "base_uri": "https://localhost:8080/"
        }
      }
    },
    {
      "cell_type": "markdown",
      "source": [
        "## Exercise 2: Factory method: Asteriod.from_NEO\n",
        "\n",
        "We want to be able to construct Asteroid objects easily from the record returned from the NEO API.  \n",
        "\n",
        "Add an \"object factory\" method to your class...   \n",
        "\n",
        "    @classmethod\n",
        "    def from_NEO(cls, neo_id):\n",
        "        ...\n",
        "\n",
        "that takes the id for a single NEO, fetches the NEO record from API, constructs and returns an Asteroid object representing that NEO.\n",
        "This kind of method is called a “Factory” because it constructs an object from raw materials.\n",
        "\n",
        "Write a little code to test your new class."
      ],
      "metadata": {
        "collapsed": false,
        "pycharm": {
          "name": "#%% md\n"
        },
        "id": "rXkeltQ1MFA5"
      }
    },
    {
      "cell_type": "code",
      "source": [],
      "metadata": {
        "id": "hC7bH181dkVf"
      },
      "execution_count": 47,
      "outputs": []
    },
    {
      "cell_type": "code",
      "execution_count": 65,
      "outputs": [
        {
          "output_type": "stream",
          "name": "stdout",
          "text": [
            "54339874\n"
          ]
        },
        {
          "output_type": "error",
          "ename": "NameError",
          "evalue": "name 'self' is not defined",
          "traceback": [
            "\u001b[0;31m---------------------------------------------------------------------------\u001b[0m",
            "\u001b[0;31mNameError\u001b[0m                                 Traceback (most recent call last)",
            "\u001b[0;32m<ipython-input-65-9e0d29ba21be>\u001b[0m in \u001b[0;36m<cell line: 10>\u001b[0;34m()\u001b[0m\n\u001b[1;32m      8\u001b[0m \u001b[0mneo_id1\u001b[0m \u001b[0;34m=\u001b[0m \u001b[0mneo\u001b[0m\u001b[0;34m[\u001b[0m\u001b[0;34m'id'\u001b[0m\u001b[0;34m]\u001b[0m\u001b[0;34m\u001b[0m\u001b[0;34m\u001b[0m\u001b[0m\n\u001b[1;32m      9\u001b[0m \u001b[0mprint\u001b[0m\u001b[0;34m(\u001b[0m\u001b[0mneo_id1\u001b[0m\u001b[0;34m)\u001b[0m\u001b[0;34m\u001b[0m\u001b[0;34m\u001b[0m\u001b[0m\n\u001b[0;32m---> 10\u001b[0;31m \u001b[0mfrom_NEO\u001b[0m\u001b[0;34m(\u001b[0m\u001b[0mself\u001b[0m\u001b[0;34m,\u001b[0m \u001b[0mneo_id1\u001b[0m\u001b[0;34m)\u001b[0m\u001b[0;34m\u001b[0m\u001b[0;34m\u001b[0m\u001b[0m\n\u001b[0m\u001b[1;32m     11\u001b[0m \u001b[0;34m\u001b[0m\u001b[0m\n\u001b[1;32m     12\u001b[0m \u001b[0;31m# b = ('54339874')\u001b[0m\u001b[0;34m\u001b[0m\u001b[0;34m\u001b[0m\u001b[0m\n",
            "\u001b[0;31mNameError\u001b[0m: name 'self' is not defined"
          ]
        }
      ],
      "source": [
        "# Ex. 2 your code here\n",
        "\n",
        "def from_NEO(self, neo_id):\n",
        "  self.neo_id = neo_id\n",
        "  return self.name + self.id, + self.estimated_diameter + self.is_potentially_hazardous\n",
        "\n",
        "#print(neo['id'])\n",
        "neo_id1 = neo['id']\n",
        "print(neo_id1)\n",
        "from_NEO(self, neo_id1)\n",
        "\n",
        "# b = ('54339874')\n",
        "# from_NEO(c)"
      ],
      "metadata": {
        "pycharm": {
          "name": "#%%\n"
        },
        "ExecuteTime": {
          "end_time": "2024-01-04T04:11:12.894705Z",
          "start_time": "2024-01-04T04:11:12.892046Z"
        },
        "id": "A7-1ZNZgMFA7",
        "outputId": "34c2dea4-7989-49fe-e2aa-e31696d8b18f",
        "colab": {
          "base_uri": "https://localhost:8080/",
          "height": 259
        }
      }
    },
    {
      "cell_type": "markdown",
      "source": [
        "## Exercise 3: Define a CloseApproach class\n",
        "\n",
        "Each NEO record comes with a list of `close_approach_data`, where each record in this list represents a single “close approach” to another orbiting body.\n",
        "* Develop a class named `CloseApproach` to represent a single close approach record.\n",
        "* State variables are\n",
        "\n",
        "        asteroid (refrence to related asteroid object)\n",
        "        orbiting body (str)\n",
        "        approach date (datetime object!)\n",
        "        miss distance (float - choose units, document it, and be consistent!)\n",
        "        relative velocity (ditto)\n",
        "  \n",
        "Define a \"Factory\" class method to construct a `CloseApproach` object from one close approach data record (a dictionary object).   \n",
        "This method takes a `neo` object as input for the NEO to which the close approach data belongs.\n",
        "Remember to parse the date/time string into a datetime object."
      ],
      "metadata": {
        "id": "DNRs7ynOYwYk"
      }
    },
    {
      "cell_type": "code",
      "source": [
        "# Ex. 3 your code here"
      ],
      "metadata": {
        "id": "tiyXTDfnZAd0",
        "ExecuteTime": {
          "end_time": "2024-01-04T04:11:12.898030Z",
          "start_time": "2024-01-04T04:11:12.895465Z"
        }
      },
      "execution_count": null,
      "outputs": []
    },
    {
      "cell_type": "markdown",
      "source": [
        "## Exercise 4: Add list of CloseApproach objects to the Asteroid\n",
        "\n",
        "Every `Asteroid` should have a list of “close approaches”.\n",
        "But there is a catch-22 here because we need the `Asteroid` to construct the `CloseApproach` objects.\n",
        "Add an instance variable to your Asteroid class with a default value of an empty list:\n",
        "\n",
        "    ...\n",
        "    close_approaches:list = []\n",
        "    ...\n",
        "      \n",
        "In `from_NEO` factory, use a list comprehension to build the list of `CloseApproach` objects for the Asteroid instance, and then set the instance's `close_approaches` variable before returning it.  \n",
        "Setting the value of an object's instance variables from outside the class is generally frowned upon - this is why we make the factory a method of the class itself!\n",
        "\n",
        "Now add a method to `Asteroid` to return the `nearest_miss` `CloseApproach` object for the asteroic:\n",
        "\n",
        "    def nearest_miss(self):\n",
        "        ...\n",
        "\n",
        "Extend your test code to demonstrate these new features."
      ],
      "metadata": {
        "collapsed": false,
        "id": "L4aY4G1CMFBA"
      }
    },
    {
      "cell_type": "code",
      "execution_count": null,
      "outputs": [],
      "source": [
        "# Ex. 4 your code here"
      ],
      "metadata": {
        "ExecuteTime": {
          "end_time": "2024-01-04T04:11:12.899780Z",
          "start_time": "2024-01-04T04:11:12.897929Z"
        },
        "id": "yyUthaYlMFBD"
      }
    },
    {
      "cell_type": "markdown",
      "source": [
        "## Challenge - Take your skills to the next level...\n",
        "### Exercise 5: add one additional analysis\n",
        "\n",
        " With these data structures in place, we can now start answering all kinds of interesting questions about a single Asteroid or a set of Asteroids.  \n",
        "Here’s a couple ideas to try:\n",
        "\n",
        "* add a method to the Asteroid class, `closest_earth_approach`, that returns the CloseApproach object that represents the closest approach the Asteroid makes to Earth.\n",
        "\n",
        "* write a **function** named `most_dangerous_approach`, that takes a date range and returns a single “potentially hazardous” Asteroid object that makes the closest approach to Earth in within that range.  Your algorithm will ultimately need to:\n",
        "    * grab the list of NEO’s for the given date range;\n",
        "    * use a list comprehension to build the list of Asteroid objects for the NEO’s returned\n",
        "    * use a list comprehension to filter  potentially hazardous Asteroids only;\n",
        "    * use a list comprehension to map each Asteroid to its  closest_earth_approach\n",
        "    * apply Python’s min function to identify the Asteroid with the closest_earth_approach\n",
        "\n",
        "You may want to decompose some of these steps into smaller functions.\n",
        "* add a method to the Asteroid class, estimated_mass, that computes an estimate of the Asteroid’s mass based on its diameter.  This is a model – state your assumptions.\n",
        "* add a method to the CloseApproach class, impact_force,  that estimates the force of impact if the Asteroid hit the orbiting object.  Again, this is a model, state your assumptions."
      ],
      "metadata": {
        "collapsed": false,
        "id": "DqxbwZ82MFBM"
      }
    },
    {
      "cell_type": "code",
      "source": [
        "# Ex. 5 (challenge) your code here"
      ],
      "metadata": {
        "id": "Ds1YevErlzCe",
        "pycharm": {
          "name": "#%%\n"
        },
        "ExecuteTime": {
          "end_time": "2024-01-04T04:11:12.902837Z",
          "start_time": "2024-01-04T04:11:12.900180Z"
        }
      },
      "execution_count": null,
      "outputs": []
    }
  ]
}