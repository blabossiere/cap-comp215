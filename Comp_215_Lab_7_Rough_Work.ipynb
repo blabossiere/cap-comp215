{
  "nbformat": 4,
  "nbformat_minor": 0,
  "metadata": {
    "colab": {
      "provenance": [],
      "authorship_tag": "ABX9TyNujhdYDqOdDU611d3JP6cE",
      "include_colab_link": true
    },
    "kernelspec": {
      "name": "python3",
      "display_name": "Python 3"
    },
    "language_info": {
      "name": "python"
    }
  },
  "cells": [
    {
      "cell_type": "markdown",
      "metadata": {
        "id": "view-in-github",
        "colab_type": "text"
      },
      "source": [
        "<a href=\"https://colab.research.google.com/github/blabossiere/cap-comp215/blob/main/Comp_215_Lab_7_Rough_Work.ipynb\" target=\"_parent\"><img src=\"https://colab.research.google.com/assets/colab-badge.svg\" alt=\"Open In Colab\"/></a>"
      ]
    },
    {
      "cell_type": "code",
      "execution_count": null,
      "metadata": {
        "id": "nVYXXwetCblc"
      },
      "outputs": [],
      "source": [
        "import numpy as np\n",
        "from scipy.signal import correlate2d\n",
        "\n",
        "#  print(\"random number:\", np.random.choice([0, 1], (3,3), p = (1-self.p, self.p)))\n",
        "\n",
        "#         number_list = []\n",
        "\n",
        "#         count = 0\n",
        "#         for row in self.state:\n",
        "#           for number in row:\n",
        "#             number_list.append(number)\n",
        "#             count = count + 1\n",
        "#         #assert(int(self.state[1][0] == 0))\n",
        "#         #self.state[0][1] = 1\n",
        "#         print(type(number_list[0]))\n",
        "#         print(\"number count:\", count)\n",
        "#         print(\"number list\", number_list)\n",
        "\n",
        "#         size = int(math.sqrt(count))\n",
        "#         print(size)\n",
        "\n",
        "#         row_index = 0\n",
        "#         for row in self.state:\n",
        "#           for number in row:\n",
        "#             if row[number] == 0:\n",
        "#               self.state[row][row_index] = np.array([1])\n",
        "              #print(self.state[row][row_index])\n",
        "          # row_index = row_index + 1\n",
        "            #self.state[row][row_index] = np.random.choice([0, 1], (1,1), p = (1-self.p, self.p))\n",
        "              #self.state[row][number] = 1\n",
        "              # number = np.random.choice([0, 1], (1,1), p = (1-self.p, self.p))\n",
        "              # self.state[row][number] = number\n",
        "\n",
        "        # self.state[0][0] = np.random.choice([0, 1], p = (1-self.p, self.p))\n",
        "        # self.state[0][1] = np.random.choice([0, 1], p = (1-self.p, self.p))\n",
        "        # self.state[0][2] = np.random.choice([0, 1], p = (1-self.p, self.p))\n",
        "        # self.state[1][0] = np.random.choice([0, 1], p = (1-self.p, self.p))\n",
        "        # self.state[1][1] = np.random.choice([0, 1], p = (1-self.p, self.p))\n",
        "        # self.state[1][2] = np.random.choice([0, 1], p = (1-self.p, self.p))\n",
        "        # self.state[2][0] = np.random.choice([0, 1], p = (1-self.p, self.p))\n",
        "        # self.state[2][1] = np.random.choice([0, 1], p = (1-self.p, self.p))\n",
        "        # self.state[2][2] = np.random.choice([0, 1], p = (1-self.p, self.p))\n",
        "\n",
        "        # count = 0\n",
        "        # for row in self.state:\n",
        "        #   for number in row:\n",
        "        #     count = count + 1\n",
        "        # size = int(math.sqrt(count))\n",
        "        # self.count = int(count)\n",
        "        # self.size = size"
      ]
    },
    {
      "cell_type": "code",
      "source": [
        "q = 0.5\n",
        "\n",
        "array1 = np.random.choice([0, 1], (4, 4), p=[q, 1 - q])\n",
        "#print(array1)\n",
        "\n",
        "array2 = np.array([             # set the state matrix to a known value for testing with\n",
        "                  [1, 5, 5],\n",
        "                  [1, 5, 5],\n",
        "                  [1, 1, 5],\n",
        "\n",
        "])\n",
        "\n",
        "print(array2)\n",
        "\n",
        "kernel = np.array([[0, 1, 0],\n",
        "                   [1, 0, 1],\n",
        "                   [0, 1, 0]])\n",
        "\n",
        "array3 = correlate2d(array2, kernel, mode='same')\n",
        "print(array3)\n",
        "\n",
        "# % is remainder\n",
        "# // is double divider.\n",
        "\n",
        "print(5//3)\n",
        "print(5%3)\n",
        "\n",
        "print(type(11%5))\n",
        "\n",
        "print(array2[0][0] % 5)\n",
        "print(array2[0][0] // 5)\n",
        "\n",
        "            #if self.state[row][row_index] == 1 and self.state3[row][row_index] == 5: # Rule 4\n",
        "            # if self.state3[row][row_index] >= 5 and self.state[row][row_index] == 1:\n",
        "            # if (self.state3[row][row_index] % 5) == 1 and self.state[row][row_index] == 1:\n",
        "            #   self.state2[row][row_index] = 5\n",
        "        \"\"\"and self.state[row][row_index] == 1:\"\"\"\n",
        "              # if (row + 1) < self.n:\n",
        "              #   self.state2[row + 1][row_index] = 5\n",
        "              # if (row - 1) > 0:\n",
        "              #   self.state2[row - 1][row_index] = 5\n",
        "              # if (row_index + 1) < self.n:\n",
        "              #   self.state2[row][row_index + 1] = 5\n",
        "              # if (row_index - 1) > 0:\n",
        "              #   self.state2[row][row_index - 1] = 5\n",
        "\n",
        "#y_list.append(ian.pct_occupied())\n",
        "\n",
        "#for i in range(ian_animator.frames):\n",
        "  #y_list.append(ian.pct_occupied())\n",
        "#ian_animator.animate()\n",
        "\n",
        "# if ian_animator.step > 0:"
      ],
      "metadata": {
        "colab": {
          "base_uri": "https://localhost:8080/"
        },
        "id": "BpP4U56pifR_",
        "outputId": "5defd4c8-6bec-4edd-c7d6-7db12337b991"
      },
      "execution_count": null,
      "outputs": [
        {
          "output_type": "stream",
          "name": "stdout",
          "text": [
            "[[1 5 5]\n",
            " [1 5 5]\n",
            " [1 1 5]]\n",
            "[[ 6 11 10]\n",
            " [ 7 12 15]\n",
            " [ 2 11  6]]\n",
            "1\n",
            "2\n",
            "<class 'int'>\n",
            "1\n",
            "0\n"
          ]
        }
      ]
    }
  ]
}