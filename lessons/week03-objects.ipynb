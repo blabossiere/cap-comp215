{
  "nbformat": 4,
  "nbformat_minor": 0,
  "metadata": {
    "colab": {
      "name": "week3.ipynb",
      "provenance": [],
      "include_colab_link": true
    },
    "kernelspec": {
      "name": "python3",
      "language": "python",
      "display_name": "Python 3 (ipykernel)"
    },
    "language_info": {
      "name": "python"
    }
  },
  "cells": [
    {
      "cell_type": "markdown",
      "metadata": {
        "id": "view-in-github",
        "colab_type": "text"
      },
      "source": [
        "<a href=\"https://colab.research.google.com/github/blabossiere/cap-comp215/blob/main/lessons/week03-objects.ipynb\" target=\"_parent\"><img src=\"https://colab.research.google.com/assets/colab-badge.svg\" alt=\"Open In Colab\"/></a>"
      ]
    },
    {
      "cell_type": "markdown",
      "source": [
        "# Classes and Objects\n",
        "Our week 3 lesson workbook, available on Github from the powderflask/cap-comp215 repository.\n",
        "\n",
        "As usual, the first code block just imports the modules we will use."
      ],
      "metadata": {
        "id": "WBMC0GrjNRTM"
      }
    },
    {
      "cell_type": "code",
      "execution_count": 1,
      "outputs": [],
      "source": [
        "import math\n",
        "import random\n",
        "from collections import defaultdict\n",
        "\n",
        "import matplotlib.pyplot as plt\n",
        "from pprint import pprint"
      ],
      "metadata": {
        "pycharm": {
          "name": "#%%\n"
        },
        "id": "Xuhr0Iqrkl7M",
        "ExecuteTime": {
          "end_time": "2023-12-31T02:31:58.997602Z",
          "start_time": "2023-12-31T02:31:58.976539Z"
        }
      }
    },
    {
      "cell_type": "markdown",
      "source": [
        "### Everything in `python` is an `object`!\n",
        "  * and every `object` has a `type`!\n",
        "    * use `type(object)` to learn the type of an object\n",
        "    * a `class` is used to define a `type`!\n",
        "  * even a `function` is an `object` !!\n",
        "  * an `object` has attributes, you can just add new attributes to any object (but don't!)\n",
        "\n",
        "A little code to demonstrate..."
      ],
      "metadata": {
        "collapsed": false,
        "id": "wXuz_73jb5OD"
      }
    },
    {
      "cell_type": "code",
      "execution_count": 30,
      "outputs": [
        {
          "output_type": "execute_result",
          "data": {
            "text/plain": [
              "False"
            ]
          },
          "metadata": {},
          "execution_count": 30
        }
      ],
      "source": [
        "# demo code\n",
        "type(42)\n",
        "type(42.5)\n",
        "type(\"42.5\")\n",
        "type([\"42.5\"])\n",
        "type((\"42.5\",))\n",
        "type({'the answer is:' '42',}) # why is this a set and what makes it a dictionary?\n",
        "# type(zip)\n",
        "# type(int)\n",
        "# type(range)\n",
        "\n",
        "def foo():\n",
        "  pass\n",
        "\n",
        "type(foo)\n",
        "\n",
        "class Foo:\n",
        "  pass\n",
        "\n",
        "type(Foo)\n",
        "f = Foo()\n",
        "type(Foo), type(f)\n",
        "type(zip), type(zip())\n",
        "type(zip), type(zip((1, 2), ('a', 'b')))\n",
        "type(str), type(\"hello\")\n",
        "# print(zip((1, 2), ('a', 'b')))\n",
        "# print(0x7ba9bec43e00)\n",
        "bool([]) # bool of an empty list"
      ],
      "metadata": {
        "ExecuteTime": {
          "end_time": "2023-12-31T02:31:59.009106Z",
          "start_time": "2023-12-31T02:31:58.997351Z"
        },
        "id": "sX-jmcLob5OF",
        "outputId": "729eb8ff-283f-4615-dc34-16f8307181e0",
        "colab": {
          "base_uri": "https://localhost:8080/"
        }
      }
    },
    {
      "cell_type": "code",
      "source": [
        "\"\"\"\n",
        "\n",
        "push(item) -> None\n",
        "pop() -> item\n",
        "top( -> item)\n",
        "\n",
        "\"\"\""
      ],
      "metadata": {
        "id": "hsPe2tv0g_OV"
      },
      "execution_count": null,
      "outputs": []
    },
    {
      "cell_type": "code",
      "source": [
        "class Stack:\n",
        "  \"\"\" A stack type that implements classic stack operations\"\"\"\n",
        "  def __init__(self):\n",
        "    print(\"Initialize\")\n",
        "    self._items = []\n",
        "\n",
        "  def __lt__(self,other):\n",
        "    \"\"\"return True if this stack is shorter than the other stack.\"\"\"\n",
        "    return len(self._items) < len(other._items)\n",
        "\n",
        "  def push(self, item):\n",
        "    \"\"\" push the item onto the top of the stack (mutator) \"\"\"\n",
        "    self._items.append(item)\n",
        "\n",
        "  def pop(self):\n",
        "    \"\"\" remove the item from the top of the stack and return it\"\"\"\n",
        "    return self._items.pop()\n",
        "\n",
        "  def top(self):\n",
        "    \"\"\" examine the top of the stack and return the item without removing it\"\"\"\n",
        "    return self._items[-1]\n",
        "\n",
        "  def is_empty(self):\n",
        "    \"\"\" return True if there are no elements in the stack \"\"\"\n",
        "    return len(self._items) == 0\n",
        "    # return not bool(self.items)\n",
        "\n",
        "s = Stack()\n",
        "s.push(42)\n",
        "s.push(99)\n",
        "s.push(101)\n",
        "s.pop()\n",
        "s.top()\n",
        "s.is_empty()\n",
        "t = Stack()\n",
        "t.is_empty(), s.is_empty()\n",
        "t.top()\n",
        "t < s\n",
        "\n",
        "t.__lt__(s), t < s\n",
        "int.__lt__(42, 99), 42 < 99\n",
        "\n",
        "assert s.top() == 101\n",
        "assert s.pop() == 101\n",
        "assert s.top() == 99\n",
        "assert not s.is_empty()\n",
        "assert t.is_empty()\n",
        "assert s < t\n",
        "print(\"tests pass\")\n",
        "type(int), type(Stack)\n",
        "\n",
        "# s = Stack()\n",
        "# type(s)\n",
        "# Stack.is_empty(s)\n",
        "# s.is_empty()\n",
        "# t = Stack()\n",
        "# t.is_empty(), s.is_empty()\n",
        "\n",
        "# t = Turtle()\n",
        "# t.left()\n"
      ],
      "metadata": {
        "id": "BVTDdZ3mhCSj",
        "outputId": "3deefce4-cd2f-40e2-b8d0-2f844e632116",
        "colab": {
          "base_uri": "https://localhost:8080/",
          "height": 395
        }
      },
      "execution_count": 55,
      "outputs": [
        {
          "output_type": "stream",
          "name": "stdout",
          "text": [
            "Initialize\n",
            "Initialize\n"
          ]
        },
        {
          "output_type": "error",
          "ename": "IndexError",
          "evalue": "list index out of range",
          "traceback": [
            "\u001b[0;31m---------------------------------------------------------------------------\u001b[0m",
            "\u001b[0;31mIndexError\u001b[0m                                Traceback (most recent call last)",
            "\u001b[0;32m<ipython-input-55-e731c18e34c9>\u001b[0m in \u001b[0;36m<cell line: 37>\u001b[0;34m()\u001b[0m\n\u001b[1;32m     35\u001b[0m \u001b[0mt\u001b[0m \u001b[0;34m=\u001b[0m \u001b[0mStack\u001b[0m\u001b[0;34m(\u001b[0m\u001b[0;34m)\u001b[0m\u001b[0;34m\u001b[0m\u001b[0;34m\u001b[0m\u001b[0m\n\u001b[1;32m     36\u001b[0m \u001b[0mt\u001b[0m\u001b[0;34m.\u001b[0m\u001b[0mis_empty\u001b[0m\u001b[0;34m(\u001b[0m\u001b[0;34m)\u001b[0m\u001b[0;34m,\u001b[0m \u001b[0ms\u001b[0m\u001b[0;34m.\u001b[0m\u001b[0mis_empty\u001b[0m\u001b[0;34m(\u001b[0m\u001b[0;34m)\u001b[0m\u001b[0;34m\u001b[0m\u001b[0;34m\u001b[0m\u001b[0m\n\u001b[0;32m---> 37\u001b[0;31m \u001b[0mt\u001b[0m\u001b[0;34m.\u001b[0m\u001b[0mtop\u001b[0m\u001b[0;34m(\u001b[0m\u001b[0;34m)\u001b[0m\u001b[0;34m\u001b[0m\u001b[0;34m\u001b[0m\u001b[0m\n\u001b[0m\u001b[1;32m     38\u001b[0m \u001b[0mt\u001b[0m \u001b[0;34m<\u001b[0m \u001b[0ms\u001b[0m\u001b[0;34m\u001b[0m\u001b[0;34m\u001b[0m\u001b[0m\n\u001b[1;32m     39\u001b[0m \u001b[0;34m\u001b[0m\u001b[0m\n",
            "\u001b[0;32m<ipython-input-55-e731c18e34c9>\u001b[0m in \u001b[0;36mtop\u001b[0;34m(self)\u001b[0m\n\u001b[1;32m     19\u001b[0m   \u001b[0;32mdef\u001b[0m \u001b[0mtop\u001b[0m\u001b[0;34m(\u001b[0m\u001b[0mself\u001b[0m\u001b[0;34m)\u001b[0m\u001b[0;34m:\u001b[0m\u001b[0;34m\u001b[0m\u001b[0;34m\u001b[0m\u001b[0m\n\u001b[1;32m     20\u001b[0m     \u001b[0;34m\"\"\" examine the top of the stack and return the item without removing it\"\"\"\u001b[0m\u001b[0;34m\u001b[0m\u001b[0;34m\u001b[0m\u001b[0m\n\u001b[0;32m---> 21\u001b[0;31m     \u001b[0;32mreturn\u001b[0m \u001b[0mself\u001b[0m\u001b[0;34m.\u001b[0m\u001b[0m_items\u001b[0m\u001b[0;34m[\u001b[0m\u001b[0;34m-\u001b[0m\u001b[0;36m1\u001b[0m\u001b[0;34m]\u001b[0m\u001b[0;34m\u001b[0m\u001b[0;34m\u001b[0m\u001b[0m\n\u001b[0m\u001b[1;32m     22\u001b[0m \u001b[0;34m\u001b[0m\u001b[0m\n\u001b[1;32m     23\u001b[0m   \u001b[0;32mdef\u001b[0m \u001b[0mis_empty\u001b[0m\u001b[0;34m(\u001b[0m\u001b[0mself\u001b[0m\u001b[0;34m)\u001b[0m\u001b[0;34m:\u001b[0m\u001b[0;34m\u001b[0m\u001b[0;34m\u001b[0m\u001b[0m\n",
            "\u001b[0;31mIndexError\u001b[0m: list index out of range"
          ]
        }
      ]
    },
    {
      "cell_type": "markdown",
      "source": [
        "## Problem: Collision detection using circles\n",
        "A `class` is just a collection of `functions` that all work on the same piece of `data structure`.\n",
        "\n",
        "The `data structure` is defined by the class's `instance variables`.\n",
        "\n",
        "Easiest to understand if we do an example - let's define a `Circle` object type..."
      ],
      "metadata": {
        "collapsed": false,
        "id": "9kidyXF4kl7N"
      }
    },
    {
      "cell_type": "code",
      "execution_count": 3,
      "outputs": [],
      "source": [
        "class Circle:\n",
        "    \"\"\" Representation for the data and operations on a circle \"\"\"\n",
        "\n",
        "    def area(self):\n",
        "        \"\"\" Return the area of this circle \"\"\"\n",
        "\n",
        "    def move(self, offset):\n",
        "        \"\"\" Move this circle by given (x,y) offset \"\"\"\n",
        "\n",
        "    def distance(self, other):\n",
        "        \"\"\" Return the distance between this circle and the other one \"\"\"\n",
        "\n",
        "    def intersects(self, other):\n",
        "        \"\"\" Return True iff this circle intersects the other one \"\"\"\n"
      ],
      "metadata": {
        "pycharm": {
          "name": "#%%\n"
        },
        "id": "JzVlJnx0kl7O",
        "ExecuteTime": {
          "end_time": "2023-12-31T02:31:59.009328Z",
          "start_time": "2023-12-31T02:31:59.002235Z"
        }
      }
    },
    {
      "cell_type": "code",
      "execution_count": 4,
      "outputs": [],
      "source": [
        "# Test Circle class\n"
      ],
      "metadata": {
        "pycharm": {
          "name": "#%%\n"
        },
        "id": "yAie8rLAkl7P",
        "ExecuteTime": {
          "end_time": "2023-12-31T02:31:59.025360Z",
          "start_time": "2023-12-31T02:31:59.011556Z"
        }
      }
    },
    {
      "cell_type": "markdown",
      "source": [
        "## Problem:  Counting\n",
        "When conducting an experiment, it is common to count occurances.  For example\n",
        "\n",
        "* in a physics experiment, we might count the number of atomic collisions in which certain sub-atomic particles were produced\n",
        "* in biology, we might count the number of cells infected by a virus after a fixed time period\n",
        "* in a computational experiment, we might count the frequency with which clusters of a give size form\n",
        "\n",
        "To visualize such experimental results, we would generally plot a histogram, like this:\n"
      ],
      "metadata": {
        "collapsed": false,
        "id": "KgcBUGH4kl7Q"
      }
    },
    {
      "cell_type": "code",
      "source": [
        "# Experiment: Get the age distribution for Cap students\n",
        "n_cap_students = 11500\n",
        "\n",
        "# Simulate getting the age for one Cap student\n",
        "def get_age(student_id):\n",
        "    return int(random.normalvariate(mu=24, sigma=4))  # Normally distributed age with mean of 24 years\n",
        "\n",
        "# Run experiment to obtain the age for each student\n",
        "data = [get_age(id) for id in range(n_cap_students)]\n",
        "\n",
        "# count the number of students in each age class\n",
        "histogram = {}\n",
        "for age in data:\n",
        "    histogram[age] = histogram.get(age, 0) + 1\n",
        "\n",
        "# configure a plot to draw the bar chart in\n",
        "_, ax = plt.subplots()\n",
        "ax.set(\n",
        "    title=\"Age distribution for Cap Students\",\n",
        "    xlabel='Age (years)',\n",
        "    ylabel='Count',\n",
        ")\n",
        "\n",
        "# plot a histogram of the data, divided into n \"equal width\" bins\n",
        "ax.bar(histogram.keys(), histogram.values())\n",
        "plt.show()"
      ],
      "metadata": {
        "id": "HZSz8IftqJ72",
        "outputId": "b55e9e7d-2ec8-4eda-b358-646838cb2a04",
        "colab": {
          "base_uri": "https://localhost:8080/",
          "height": 472
        },
        "ExecuteTime": {
          "end_time": "2023-12-31T02:33:02.083690Z",
          "start_time": "2023-12-31T02:33:01.998264Z"
        }
      },
      "execution_count": 5,
      "outputs": [
        {
          "output_type": "display_data",
          "data": {
            "text/plain": [
              "<Figure size 640x480 with 1 Axes>"
            ],
            "image/png": "[encoded data removed]"
          },
          "metadata": {}
        }
      ]
    },
    {
      "cell_type": "markdown",
      "source": [
        "## Custom Histogram Class\n",
        "\n",
        "Define our own historgram class that serves as a \"wrapper\" for clunky pyplot ax.hist"
      ],
      "metadata": {
        "id": "naDVayQLkznK"
      }
    },
    {
      "cell_type": "code",
      "source": [
        "class Histogram:\n",
        "    \"\"\" A simple histogram with a nice API \"\"\"\n",
        "    def __init__(self, title, xlabel='Categories', ylabel='Count'):\n",
        "        _, ax = plt.subplots()\n",
        "        ax.set(\n",
        "            title=title,\n",
        "            xlabel=xlabel,\n",
        "            ylabel=ylabel,\n",
        "        )\n",
        "        self.ax = ax\n",
        "        self.counts = {}\n",
        "\n",
        "    def count(self, category):\n",
        "        self.counts[category] = self.counts.get(category, 0) + 1\n",
        "\n",
        "    def plot(self):\n",
        "        self.ax.bar(self.counts.keys(), self.counts.values())\n",
        "        plt.show()"
      ],
      "metadata": {
        "id": "Ai9qb3Bolw4h",
        "ExecuteTime": {
          "end_time": "2023-12-31T02:31:59.205268Z",
          "start_time": "2023-12-31T02:31:59.157995Z"
        }
      },
      "execution_count": 6,
      "outputs": []
    },
    {
      "cell_type": "markdown",
      "source": [
        "### The Power of Abstraction\n",
        "\n",
        "The real benefits appear when we go to use this class to solve the original problem.\n",
        "\n",
        "Notice how creating an \"abstraction\" for a histogram makes it much easier to understand what the computation is doing.  Also notice, the class is \"reusable\" - we can now deploy this abstraction any time we need a histogram!"
      ],
      "metadata": {
        "collapsed": false,
        "id": "zORk9jRSb5PV"
      }
    },
    {
      "cell_type": "code",
      "execution_count": 7,
      "outputs": [
        {
          "output_type": "display_data",
          "data": {
            "text/plain": [
              "<Figure size 640x480 with 1 Axes>"
            ],
            "image/png": "[encoded data removed]"
          },
          "metadata": {}
        }
      ],
      "source": [
        "hist = Histogram(title='Age Distribution for Cap Students', xlabel='Age (years)')\n",
        "for id in range(n_cap_students):\n",
        "    hist.count(get_age(id))\n",
        "hist.plot()"
      ],
      "metadata": {
        "pycharm": {
          "name": "#%%\n"
        },
        "id": "QxLQc9nokl7T",
        "outputId": "190b9480-1950-4909-e91f-dac1c1f6d968",
        "colab": {
          "base_uri": "https://localhost:8080/",
          "height": 472
        },
        "ExecuteTime": {
          "end_time": "2023-12-31T02:31:59.277250Z",
          "start_time": "2023-12-31T02:31:59.164409Z"
        }
      }
    },
    {
      "cell_type": "code",
      "execution_count": 7,
      "outputs": [],
      "source": [],
      "metadata": {
        "pycharm": {
          "name": "#%%\n"
        },
        "id": "-y3O-TIYkl7T",
        "ExecuteTime": {
          "end_time": "2023-12-31T02:31:59.287332Z",
          "start_time": "2023-12-31T02:31:59.279539Z"
        }
      }
    }
  ]
}