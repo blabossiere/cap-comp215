{
  "cells": [
    {
      "cell_type": "markdown",
      "metadata": {
        "id": "view-in-github",
        "colab_type": "text"
      },
      "source": [
        "<a href=\"https://colab.research.google.com/github/blabossiere/cap-comp215/blob/main/Comp_215_Project_1_Thursday_February_22%2C_2024.ipynb\" target=\"_parent\"><img src=\"https://colab.research.google.com/assets/colab-badge.svg\" alt=\"Open In Colab\"/></a>"
      ]
    },
    {
      "cell_type": "markdown",
      "metadata": {
        "id": "WWpqazl-ps7t"
      },
      "source": [
        "#Computer Science 215 Project 1\n",
        "#Brayden Labossiere\n",
        "#Monday February 26, 2024"
      ]
    },
    {
      "cell_type": "markdown",
      "metadata": {
        "id": "XLukFy2pqMSY"
      },
      "source": [
        "Initial setup of the screen:\n",
        "Ideas from https://www.askpython.com/python/examples/draw-without-turtle# and\n",
        "https://colab.research.google.com/drive/1xtiBrGeRHmXY3KSOixkZBf_rJIgBImJu?usp=sharing\n"
      ]
    },
    {
      "cell_type": "code",
      "execution_count": null,
      "metadata": {
        "colab": {
          "base_uri": "https://localhost:8080/",
          "height": 517
        },
        "id": "1Xl7iBA8iSTx",
        "outputId": "4c48bb05-7cce-4840-df17-baa8e1990e21"
      },
      "outputs": [
        {
          "output_type": "display_data",
          "data": {
            "text/plain": [
              "<PIL.Image.Image image mode=RGB size=1000x500>"
            ],
            "image/png": "[encoded data removed]"
          },
          "metadata": {}
        }
      ],
      "source": [
        "import pygame\n",
        "import cv2\n",
        "from google.colab.patches import cv2_imshow\n",
        "from google.colab import output\n",
        "import time\n",
        "import os, sys\n",
        "import math\n",
        "\n",
        "pygame.init()\n",
        "\n",
        "pygame.init()\n",
        "screen = pygame.display.set_mode((1000, 500))\n",
        "done = False\n",
        "is_blue = True\n",
        "x = 0\n",
        "y = 0\n",
        "\n",
        "# set SDL to use the dummy NULL video driver,\n",
        "#   so it doesn't need a windowing system.\n",
        "os.environ[\"SDL_VIDEODRIVER\"] = \"dummy\"\n",
        "\n",
        "color = (255, 100, 0)\n",
        "pygame.draw.rect(screen, color, pygame.Rect(x, y, 60, 60))\n",
        "pygame.draw.rect(screen, color, pygame.Rect(100, 100, 200, 200))\n",
        "pygame.draw.rect(screen, color, pygame.Rect(900, 400, 1000, 500))\n",
        "\n",
        "pygame.display.flip()\n",
        "\n",
        "#convert image so it can be displayed in OpenCV\n",
        "view = pygame.surfarray.array3d(screen)\n",
        "\n",
        "#  convert from (width, height, channel) to (height, width, channel)\n",
        "view = view.transpose([1, 0, 2])\n",
        "\n",
        "#  convert from rgb to bgr\n",
        "img_bgr = cv2.cvtColor(view, cv2.COLOR_RGB2BGR)\n",
        "\n",
        "#Display image, clear cell every 0.5 seconds\n",
        "cv2_imshow(img_bgr)\n",
        "time.sleep(0.5)"
      ]
    },
    {
      "cell_type": "code",
      "execution_count": null,
      "metadata": {
        "colab": {
          "base_uri": "https://localhost:8080/"
        },
        "id": "8ProYK15quaw",
        "outputId": "c3d96fb4-ec02-477c-c198-dc12f511a7a9"
      },
      "outputs": [
        {
          "output_type": "stream",
          "name": "stdout",
          "text": [
            "6 6\n",
            "All Tests Passed!\n"
          ]
        }
      ],
      "source": [
        "class Circle:\n",
        "  \"\"\"Takes the input of radius, and the x-coordinate, and y-coordinate of the circle's centre, and describes its movement\"\"\"\n",
        "\n",
        "  def __init__(self, centre:tuple, radius):\n",
        "    \"\"\"Takes the input of radius, as well as the x-coordinate and the y-coordiante of the centre, and initializes the variables.\"\"\"\n",
        "    assert len(centre) == 2\n",
        "    x_centre = centre[0]\n",
        "    y_centre = centre[1]\n",
        "    self.radius = radius\n",
        "    self.x_centre = x_centre\n",
        "    self.y_centre = y_centre\n",
        "\n",
        "  def getX(self):\n",
        "    \"\"\"Return the x value of a circle's centre.\"\"\"\n",
        "    return self.x_centre\n",
        "\n",
        "  def getY(self):\n",
        "    \"\"\"Returns the y-value of a circle's centre.\"\"\"\n",
        "    return self.y_centre\n",
        "\n",
        "  def circle_area(self):\n",
        "    \"\"\"Takes the input of a circle, and returns its' radius.\"\"\"\n",
        "    return math.pi * (self.radius ** 2)\n",
        "\n",
        "  def move_circle(self, dx, dy):\n",
        "    \"\"\"Takes the input of a circle, the x-distance moved right, and the y-distance moved up, and moves the circles' centre to a new coordinate.\"\"\"\n",
        "    new_x = self.x_centre + dx\n",
        "    new_y = self.y_centre + dy\n",
        "    self.x_centre = new_x\n",
        "    self.y_centre = new_y\n",
        "    return new_x, new_y\n",
        "\n",
        "  def move_paddle(self, dy):\n",
        "    \"\"\"Takes the input of a circle, and its changed y coordinate.\"\"\"\n",
        "    new_y = self.y_centre + dy\n",
        "    return (self.x_centre + dy)\n",
        "\n",
        "  def distance(self, other:'circle'):\n",
        "    \"\"\"Takes the input of two circles.  Returns the distance between the two circle's centres.\"\"\"\n",
        "    x1 = self.x_centre\n",
        "    y1 = self.y_centre\n",
        "    x2 = other.x_centre\n",
        "    y2 = other.y_centre\n",
        "    return ((((x2 - x1) ** 2) + ((y2 - y1) ** 2)) ** 0.5)\n",
        "\n",
        "  def touching(self, other:'circle'):\n",
        "    \"\"\"Takes the input of two circles.  If the circles are touching, return 'True'.  Else, return 'False'.\"\"\"\n",
        "    return self.radius + other.radius > self.distance(other)\n",
        "\n",
        "  def at_y_boundary(self):\n",
        "    \"\"\"Takes the input of a circle and evaluates if the circle is at one of the y-boundaries of the screen.\"\"\"\n",
        "    if self.y_centre > 500 or self.y_centre < 0:\n",
        "      return True\n",
        "    else:\n",
        "      return False\n",
        "\n",
        "  def at_x_boundary(self):\n",
        "    \"\"\"Takes the input of a circle and evaluates if the circle is at one of the x-boundaries of the screen.\"\"\"\n",
        "    if self.x_centre > 1000 or self.x_centre < 0:\n",
        "      return True\n",
        "    else:\n",
        "      return False\n",
        "\n",
        "# Unit Tests\n",
        "\n",
        "c = Circle((5, 5), 3)\n",
        "d = Circle((8, 9), 4)\n",
        "e = Circle((6, 6), 4)\n",
        "f = c\n",
        "g = Circle((6, 6), 3)\n",
        "h = Circle((100, 100), 2)\n",
        "\n",
        "c.circle_area()\n",
        "c.move_circle(1, 1)\n",
        "print(c.getX(), c.getY())\n",
        "c.distance(d)\n",
        "\n",
        "assert c.touching(d) == True\n",
        "assert c.touching(e) == True\n",
        "assert c.touching(f) == True\n",
        "assert c.touching(g) == True\n",
        "assert c.touching(h) == False\n",
        "\n",
        "i = Circle((5, -1), 4)\n",
        "j = Circle((5, 505), 4)\n",
        "\n",
        "assert c.at_y_boundary() == False\n",
        "assert i.at_y_boundary() == True\n",
        "assert j.at_y_boundary() == True\n",
        "\n",
        "k = Circle((-1, 5), 4)\n",
        "l = Circle((1001, 5), 4)\n",
        "\n",
        "assert c.at_x_boundary() == False\n",
        "assert k.at_x_boundary() == True\n",
        "assert l.at_x_boundary() == True\n",
        "\n",
        "print(\"All Tests Passed!\")"
      ]
    },
    {
      "cell_type": "markdown",
      "metadata": {
        "id": "QMAslmtC1cxn"
      },
      "source": [
        "Screen Workings"
      ]
    },
    {
      "cell_type": "code",
      "execution_count": null,
      "metadata": {
        "colab": {
          "base_uri": "https://localhost:8080/",
          "height": 724
        },
        "id": "twjB4aWnz09D",
        "outputId": "7a08b1ef-5fa5-45d9-8ce3-01a95b4d46f4"
      },
      "outputs": [
        {
          "output_type": "stream",
          "name": "stdout",
          "text": [
            " ball coordinates: 810 , 370\n"
          ]
        },
        {
          "output_type": "display_data",
          "data": {
            "text/plain": [
              "<PIL.Image.Image image mode=RGB size=1000x500>"
            ],
            "image/png": "[encoded data removed]"
          },
          "metadata": {}
        },
        {
          "output_type": "error",
          "ename": "KeyboardInterrupt",
          "evalue": "",
          "traceback": [
            "\u001b[0;31m---------------------------------------------------------------------------\u001b[0m",
            "\u001b[0;31mKeyboardInterrupt\u001b[0m                         Traceback (most recent call last)",
            "\u001b[0;32m<ipython-input-14-a0cccf41a15e>\u001b[0m in \u001b[0;36m<cell line: 60>\u001b[0;34m()\u001b[0m\n\u001b[1;32m     85\u001b[0m   \u001b[0;31m#Display image, clear cell every 0.5 seconds\u001b[0m\u001b[0;34m\u001b[0m\u001b[0;34m\u001b[0m\u001b[0m\n\u001b[1;32m     86\u001b[0m   \u001b[0mcv2_imshow\u001b[0m\u001b[0;34m(\u001b[0m\u001b[0mimg_bgr\u001b[0m\u001b[0;34m)\u001b[0m\u001b[0;34m\u001b[0m\u001b[0;34m\u001b[0m\u001b[0m\n\u001b[0;32m---> 87\u001b[0;31m   \u001b[0mtime\u001b[0m\u001b[0;34m.\u001b[0m\u001b[0msleep\u001b[0m\u001b[0;34m(\u001b[0m\u001b[0;36m0.3\u001b[0m\u001b[0;34m)\u001b[0m\u001b[0;34m\u001b[0m\u001b[0;34m\u001b[0m\u001b[0m\n\u001b[0m\u001b[1;32m     88\u001b[0m   \u001b[0moutput\u001b[0m\u001b[0;34m.\u001b[0m\u001b[0mclear\u001b[0m\u001b[0;34m(\u001b[0m\u001b[0;34m)\u001b[0m\u001b[0;34m\u001b[0m\u001b[0;34m\u001b[0m\u001b[0m\n\u001b[1;32m     89\u001b[0m \u001b[0;34m\u001b[0m\u001b[0m\n",
            "\u001b[0;31mKeyboardInterrupt\u001b[0m: "
          ]
        }
      ],
      "source": [
        "pygame.init()\n",
        "screen = pygame.display.set_mode((1000, 500))\n",
        "done = False\n",
        "is_blue = True\n",
        "x = 0\n",
        "y = 0\n",
        "\n",
        "total_events = range(10) # events\n",
        "ball_dy = 40\n",
        "ball_dx = 10\n",
        "white = [255, 255, 255]\n",
        "\n",
        "os.environ[\"SDL_VIDEODRIVER\"] = \"dummy\"\n",
        "\n",
        "color = (255, 100, 0)\n",
        "\n",
        "\"\"\"Ball Instance.\"\"\"\n",
        "ball = Circle((500, 250), 20)\n",
        "\n",
        "ball_x = ball.getX()\n",
        "ball_y = ball.getY()\n",
        "ball_radius = ball.radius\n",
        "\n",
        "\n",
        "\n",
        "\"\"\"Left Paddle Instance.\"\"\"\n",
        "left_paddle = Circle((50, 250), 50)\n",
        "\n",
        "left_paddle_x = left_paddle.getX()\n",
        "left_paddle_y = left_paddle.getY()\n",
        "left_paddle_radius = left_paddle.radius\n",
        "\n",
        "pygame.draw.circle(screen, 'green', (left_paddle_x, left_paddle_y), left_paddle_radius)\n",
        "\n",
        "\"\"\"Right Paddle Instance\"\"\"\n",
        "right_paddle = Circle((950, 250), 50)\n",
        "\n",
        "right_paddle_x = right_paddle.getX()\n",
        "right_paddle_y = right_paddle.getY()\n",
        "right_paddle_radius = right_paddle.radius\n",
        "\n",
        "pygame.draw.circle(screen, 'blue', (right_paddle_x, right_paddle_y), right_paddle_radius)\n",
        "\n",
        "def ball_move_and_erase():\n",
        "  \"\"\"A function that describes three movements that appear frequently in the game.  The ball is moved, the new ball is drawn, and then the old ball is erased.\"\"\"\n",
        "  ball.move_circle(ball_dx, ball_dy)\n",
        "  pygame.draw.circle(screen, color, (ball_x, ball_y), ball_radius) # Draw Circle\n",
        "  pygame.draw.circle(screen, white, (ball_x, ball_y), ball_radius) # Draw White Circle to erase previous circle.\n",
        "\n",
        "print(ball.getX())\n",
        "print(ball.getY())\n",
        "print(ball.radius)\n",
        "\n",
        "ball_x = (ball.getX())\n",
        "ball_y = (ball.getY())\n",
        "ball_radius = ball.radius\n",
        "\n",
        "# Running the program.\n",
        "\n",
        "while ball.at_x_boundary() == False:\n",
        "  for event in pygame.event.get():\n",
        "                if event.type == pygame.QUIT:\n",
        "                        done = True\n",
        "\n",
        "   # clear display\n",
        "  screen.fill([255, 255, 255])\n",
        "\n",
        "  ball_x = (ball.getX())\n",
        "  ball_y = (ball.getY())\n",
        "  ball_radius = ball.radius\n",
        "\n",
        "  pygame.draw.circle(screen, color, (ball_x, ball_y), ball_radius) # Draw Ball\n",
        "  pygame.draw.circle(screen, 'green', (left_paddle_x, left_paddle_y), left_paddle_radius) # Redraw left (green) paddle to draw over the white eraser.\n",
        "  pygame.draw.circle(screen, 'blue', (right_paddle_x, right_paddle_y), right_paddle_radius) # Redraw right (blue) paddle to draw over the white eraser.\n",
        "\n",
        "  #convert image so it can be displayed in OpenCV\n",
        "  view = pygame.surfarray.array3d(screen)\n",
        "\n",
        "  #  convert from (width, height, channel) to (height, width, channel)\n",
        "  view = view.transpose([1, 0, 2])\n",
        "\n",
        "  #  convert from rgb to bgr\n",
        "  img_bgr = cv2.cvtColor(view, cv2.COLOR_RGB2BGR)\n",
        "\n",
        "  #Display image, clear cell every 0.5 seconds\n",
        "  cv2_imshow(img_bgr)\n",
        "  time.sleep(0.3)\n",
        "  output.clear()\n",
        "\n",
        "  print(' ball coordinates:', ball.getX(), ',', ball.getY())\n",
        "  if ball.at_y_boundary() == True:\n",
        "    ball_dy = -ball_dy\n",
        "    ball_move_and_erase()\n",
        "  if ball.touching(left_paddle):\n",
        "    ball_dx = -ball_dx\n",
        "    ball_dy = -ball_dy\n",
        "    ball_move_and_erase()\n",
        "    pygame.draw.circle(screen, 'green', (left_paddle_x, left_paddle_y), left_paddle_radius) # Redraw left (green) paddle to draw over the white eraser.\n",
        "  if ball.touching(right_paddle):\n",
        "    ball_dx = -ball_dx\n",
        "    ball_dy = -ball_dy\n",
        "    ball_move_and_erase()\n",
        "    pygame.draw.circle(screen, 'blue', (right_paddle_x, right_paddle_y), right_paddle_radius) # Redraw right (blue) paddle to draw over the white eraser.\n",
        "\n",
        "  ball.move_circle(ball_dx, ball_dy)\n",
        "  pygame.draw.circle(screen, color, (ball_x, ball_y), ball_radius) # Draw Circle\n",
        "  pygame.draw.circle(screen, white, (ball_x, ball_y), ball_radius) # Draw White Circle to erase previous circle.\n",
        "\n",
        "  # update display\n",
        "  pygame.display.update()\n",
        "  pygame.display.flip()\n"
      ]
    }
  ],
  "metadata": {
    "colab": {
      "provenance": [],
      "authorship_tag": "ABX9TyO1+FuTNmNUXPfxMgawd5s4",
      "include_colab_link": true
    },
    "kernelspec": {
      "display_name": "Python 3",
      "name": "python3"
    },
    "language_info": {
      "name": "python"
    }
  },
  "nbformat": 4,
  "nbformat_minor": 0
}