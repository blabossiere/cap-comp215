{
  "cells": [
    {
      "cell_type": "markdown",
      "source": [
        "# Python Foundations:  new syntax for maps and sequences\n",
        "New Python syntax / concepts for working more effectively with python's built-in map type, `dict`,\n",
        " and linear sequence types, `str`, `tuple`, and `list`\n",
        "\n",
        "Foundations notebook available on Github from the powderflask/cap-comp215 repository.\n",
        "As usual, the first code block just imports the modules we will use."
      ],
      "metadata": {
        "collapsed": false,
        "id": "pacnoLsS5Jbd"
      }
    },
    {
      "cell_type": "code",
      "execution_count": 2,
      "metadata": {
        "collapsed": true,
        "ExecuteTime": {
          "end_time": "2023-12-26T03:14:36.893294Z",
          "start_time": "2023-12-26T03:14:36.883619Z"
        },
        "id": "iSCtTe315Jbj"
      },
      "outputs": [],
      "source": [
        "from pprint import pprint"
      ]
    },
    {
      "cell_type": "markdown",
      "source": [
        "## New Python Syntax: dictionary constructor\n",
        "Often constructing a dictionary using keyword arguments makes for more readable code..."
      ],
      "metadata": {
        "collapsed": false,
        "pycharm": {
          "name": "#%% md\n"
        },
        "id": "WAE9d6FR5Jbm"
      }
    },
    {
      "cell_type": "code",
      "execution_count": 3,
      "outputs": [
        {
          "output_type": "execute_result",
          "data": {
            "text/plain": [
              "({'a': 1, 'b': 2, 'c': 3}, {'a': 1, 'b': 2, 'c': 3})"
            ]
          },
          "metadata": {},
          "execution_count": 3
        }
      ],
      "source": [
        "d1 = {\n",
        "    'a' : 1,\n",
        "    'b' : 2,\n",
        "    'c' : 3,\n",
        "}\n",
        "# vs.\n",
        "d2 = dict(a=1, b=2, c=3)   # only works if dictionary keys are valid python identifiers.\n",
        "\n",
        "assert d1 == d2\n",
        "\n",
        "d1, d2"
      ],
      "metadata": {
        "pycharm": {
          "name": "#%%\n"
        },
        "ExecuteTime": {
          "end_time": "2023-12-26T03:14:36.893606Z",
          "start_time": "2023-12-26T03:14:36.887984Z"
        },
        "id": "Uy3F6ixX5Jbm",
        "outputId": "499f6f19-e89f-4b78-c71c-1d9e5c192dda",
        "colab": {
          "base_uri": "https://localhost:8080/"
        }
      }
    },
    {
      "cell_type": "code",
      "source": [
        "t = (1, 2, 3)\n",
        "x, y, z = t\n",
        "y\n",
        "z"
      ],
      "metadata": {
        "id": "YiSrv0wP5dmh",
        "outputId": "a40189db-8a64-478f-a9dc-4feab3537589",
        "colab": {
          "base_uri": "https://localhost:8080/"
        }
      },
      "execution_count": 9,
      "outputs": [
        {
          "output_type": "execute_result",
          "data": {
            "text/plain": [
              "3"
            ]
          },
          "metadata": {},
          "execution_count": 9
        }
      ]
    },
    {
      "cell_type": "markdown",
      "source": [
        "## New Python Syntax: tuple unpacking\n",
        "\n",
        "Sequences can be \"unpacked\" in various useful ways.  \n",
        "Here we'll demonstrate using `tuples` but these techniques work with any sequence type..."
      ],
      "metadata": {
        "collapsed": false,
        "id": "_avU1K7h5Jbo"
      }
    },
    {
      "cell_type": "code",
      "execution_count": 11,
      "outputs": [
        {
          "output_type": "execute_result",
          "data": {
            "text/plain": [
              "(1, 2, 3, 4, 5, 6)"
            ]
          },
          "metadata": {},
          "execution_count": 11
        }
      ],
      "source": [
        "t = (1, 2, 3)\n",
        "x,y,z = t\n",
        "\n",
        "\n",
        "a, b, c = (1, 2, 3)  # unpack a sequence into separate variables\n",
        "assert a == 1 and b == 2 and c == 3\n",
        "\n",
        "s1 = (1, 2, 3)\n",
        "s2 = (4, 5, 6)\n",
        "merged = (*s1, *s2)  # unpack the 2 sequences to add elements to a merged sequence\n",
        "merged"
      ],
      "metadata": {
        "ExecuteTime": {
          "end_time": "2023-12-26T03:14:36.894281Z",
          "start_time": "2023-12-26T03:14:36.891835Z"
        },
        "id": "Ou15DOc95Jbp",
        "outputId": "d6b6ac5d-ccec-4a37-9033-524f1b33f4d0",
        "colab": {
          "base_uri": "https://localhost:8080/"
        }
      }
    },
    {
      "cell_type": "markdown",
      "source": [
        "## New Python Syntax:  dict unpacking\n",
        "\n",
        "Similarly, we can \"unpack\" a map data structure (e.g., `dict`) using the `**` operator.\n",
        "\n",
        "We will see many uses for this syntax, but a handy one is to merge dictionaries together.\n",
        "Notice the dict merged in \"last\" overrides the value of keys defined by earlier dicts."
      ],
      "metadata": {
        "collapsed": false,
        "pycharm": {
          "name": "#%% md\n"
        },
        "id": "vIV7xDKO5Jbq"
      }
    },
    {
      "cell_type": "code",
      "execution_count": 4,
      "outputs": [
        {
          "output_type": "execute_result",
          "data": {
            "text/plain": [
              "{'a': 1, 'b': 2, 'c': 9, 'd': 8, 'e': 7}"
            ]
          },
          "metadata": {},
          "execution_count": 4
        }
      ],
      "source": [
        "d3 = dict(a=1, b=2, c=3)\n",
        "d4 = dict(c=9, d=8, e=7)  # note also contains key 'c'\n",
        "\n",
        "merged = {**d3, **d4}\n",
        "merged"
      ],
      "metadata": {
        "pycharm": {
          "name": "#%%\n"
        },
        "ExecuteTime": {
          "end_time": "2023-12-26T03:14:36.899002Z",
          "start_time": "2023-12-26T03:14:36.896287Z"
        },
        "id": "VXxUB5H05Jbr",
        "outputId": "94b29cb1-616b-478f-ebfc-1f5a22e0d5b8",
        "colab": {
          "base_uri": "https://localhost:8080/"
        }
      }
    },
    {
      "cell_type": "markdown",
      "source": [
        "## New built-in function:  zip()\n",
        "\n",
        "`zip()` is a very powerful function for transforming linear data structures.\n",
        "\n",
        "Think of it like a zipper - it takes 2 (or more) linear  sequences and \"zippers\" their elements together..."
      ],
      "metadata": {
        "collapsed": false,
        "id": "R1x8ZatW5Jbr"
      }
    },
    {
      "cell_type": "code",
      "execution_count": 14,
      "outputs": [
        {
          "output_type": "execute_result",
          "data": {
            "text/plain": [
              "[('a', 1), ('b', 2), ('c', 3), ('d', 4)]"
            ]
          },
          "metadata": {},
          "execution_count": 14
        }
      ],
      "source": [
        "t1 = ('a', 'b', 'c', 'd')\n",
        "t2 = (1, 2, 3, 4, 5)\n",
        "\n",
        "zippered = zip(t1, t2)\n",
        "#list(zippered)   # notice that the length of the \"zipped\" tuples is bounded by the shortest input sequence\n",
        "[ item for item in zippered ]"
      ],
      "metadata": {
        "ExecuteTime": {
          "end_time": "2023-12-26T03:14:36.902779Z",
          "start_time": "2023-12-26T03:14:36.900097Z"
        },
        "id": "IGZWGfMK5Jbs",
        "outputId": "d91e5f01-bd23-4417-cc29-ebb80b45a37d",
        "colab": {
          "base_uri": "https://localhost:8080/"
        }
      }
    },
    {
      "cell_type": "markdown",
      "source": [
        "### Creating a dict from a list of 2-tuples\n",
        "Here's an example that transforms 2 tuples into a dictionary that maps values in the first tuple to the second!"
      ],
      "metadata": {
        "collapsed": false,
        "id": "A3DUKfLj5Jbs"
      }
    },
    {
      "cell_type": "code",
      "execution_count": 6,
      "outputs": [
        {
          "output_type": "execute_result",
          "data": {
            "text/plain": [
              "{'a': 1, 'b': 2, 'c': 3, 'd': 4}"
            ]
          },
          "metadata": {},
          "execution_count": 6
        }
      ],
      "source": [
        "map = dict(zip(t1, t2))\n",
        "map"
      ],
      "metadata": {
        "ExecuteTime": {
          "end_time": "2023-12-26T03:14:36.909164Z",
          "start_time": "2023-12-26T03:14:36.902712Z"
        },
        "id": "cyRyxYSu5Jbt",
        "outputId": "958036d7-4da3-4d96-8d96-7f11985bd1ea",
        "colab": {
          "base_uri": "https://localhost:8080/"
        }
      }
    },
    {
      "cell_type": "code",
      "source": [
        "def divide(numerator, denominator):\n",
        "  return numerator/denominator\n",
        "\n",
        "divide(3, 10)\n",
        "divide(denominator = 3, numerator = 10)\n",
        "values = (3,10)\n",
        "divide(*values)\n",
        "values = dict(denominator = 10, numerator = 3)\n",
        "divide(**values)"
      ],
      "metadata": {
        "id": "9ILKx49O89MW",
        "outputId": "fcac82f9-282a-4554-8277-fe6ec15558a4",
        "colab": {
          "base_uri": "https://localhost:8080/"
        }
      },
      "execution_count": 19,
      "outputs": [
        {
          "output_type": "execute_result",
          "data": {
            "text/plain": [
              "0.3"
            ]
          },
          "metadata": {},
          "execution_count": 19
        }
      ]
    },
    {
      "cell_type": "markdown",
      "source": [
        "... python's built-in types and functions provide a near endless variety of ways to merge, unpack, and transform data.  \n",
        "But it takes some practice to learn how to think about data transformations clearly, and harness python's power effectively."
      ],
      "metadata": {
        "collapsed": false,
        "id": "xY_E8rOf5Jbu"
      }
    }
  ],
  "metadata": {
    "kernelspec": {
      "display_name": "Python 3",
      "language": "python",
      "name": "python3"
    },
    "language_info": {
      "codemirror_mode": {
        "name": "ipython",
        "version": 2
      },
      "file_extension": ".py",
      "mimetype": "text/x-python",
      "name": "python",
      "nbconvert_exporter": "python",
      "pygments_lexer": "ipython2",
      "version": "2.7.6"
    },
    "colab": {
      "provenance": []
    }
  },
  "nbformat": 4,
  "nbformat_minor": 0
}