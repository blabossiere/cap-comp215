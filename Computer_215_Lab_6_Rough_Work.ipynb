{
  "nbformat": 4,
  "nbformat_minor": 0,
  "metadata": {
    "colab": {
      "provenance": [],
      "authorship_tag": "ABX9TyMhZ62brPdytfBiYKg0woKP",
      "include_colab_link": true
    },
    "kernelspec": {
      "name": "python3",
      "display_name": "Python 3"
    },
    "language_info": {
      "name": "python"
    }
  },
  "cells": [
    {
      "cell_type": "markdown",
      "metadata": {
        "id": "view-in-github",
        "colab_type": "text"
      },
      "source": [
        "<a href=\"https://colab.research.google.com/github/blabossiere/cap-comp215/blob/main/Computer_215_Lab_6_Rough_Work.ipynb\" target=\"_parent\"><img src=\"https://colab.research.google.com/assets/colab-badge.svg\" alt=\"Open In Colab\"/></a>"
      ]
    },
    {
      "cell_type": "code",
      "execution_count": 1,
      "metadata": {
        "colab": {
          "base_uri": "https://localhost:8080/"
        },
        "id": "5TPX-uj-Tv3W",
        "outputId": "3d4b7fc4-b3fa-490c-ce20-1b930503696d"
      },
      "outputs": [
        {
          "output_type": "stream",
          "name": "stdout",
          "text": [
            "[[0 0 0 1 1 1 1 0 0 0]\n",
            " [1 0 1 0 1 1 1 1 0 1]\n",
            " [1 0 0 1 1 1 0 1 0 1]\n",
            " [0 0 0 0 1 0 0 0 0 1]\n",
            " [0 0 0 1 0 1 1 0 1 1]\n",
            " [0 0 0 0 1 0 0 1 0 0]\n",
            " [1 1 1 1 1 0 0 0 0 0]\n",
            " [1 0 1 1 0 1 0 0 0 1]\n",
            " [0 1 0 0 0 1 1 1 1 0]\n",
            " [0 1 1 0 1 1 1 1 0 1]]\n",
            "[[1 1 1 0 1 0 1 1 0 0]]\n"
          ]
        }
      ],
      "source": [
        "import numpy as np\n",
        "from scipy.signal import correlate2d\n",
        "\n",
        "a = np.random.randint(2, size = (10, 10), dtype=np.uint8)\n",
        "print(a)\n",
        "\n",
        "ca = np.random.randint(2, size = (1, 10), dtype=np.uint8)\n",
        "print(ca)\n",
        "\n",
        "b = np.zeros_like(a)\n",
        "rows, cols = a.shape"
      ]
    },
    {
      "cell_type": "code",
      "source": [],
      "metadata": {
        "id": "DPyKL7cRM4us"
      },
      "execution_count": 1,
      "outputs": []
    },
    {
      "cell_type": "code",
      "source": [
        "kernel = np.array([[1, 1, 1],\n",
        "                  [1, 10, 1],\n",
        "                   [1, 1, 1]])\n",
        "\n",
        "c = correlate2d(a, kernel, mode='same')\n",
        "print(c)\n",
        "\n",
        "b = (c==3) | (c==12) | (c==13)\n",
        "b = b.astype(np.uint8)\n",
        "\n",
        "b = (c==3) | (c==12) | (c==13)\n",
        "b = b.astype(np.uint8)\n",
        "\n",
        "table = np.zeros(20, dtype=np.uint8)\n",
        "print(table)\n",
        "#table[[0, 10, 19]] = 2\n",
        "#print(table)\n",
        "table[[3, 12, 13]] = 1\n",
        "print(table)\n",
        "c = correlate2d(a, kernel, mode='same')\n",
        "b = table[c]\n",
        "print(b)"
      ],
      "metadata": {
        "colab": {
          "base_uri": "https://localhost:8080/"
        },
        "id": "uLEJS8pBfPVu",
        "outputId": "790dea31-4084-4a00-97f5-f88b26f3b5ff"
      },
      "execution_count": 2,
      "outputs": [
        {
          "output_type": "stream",
          "name": "stdout",
          "text": [
            "[[ 1  2  2 13 14 15 14  3  2  1]\n",
            " [11  3 12  6 17 17 16 13  4 11]\n",
            " [11  3  2 14 15 15  5 12  5 12]\n",
            " [ 1  1  2  4 15  5  4  3  5 13]\n",
            " [ 0  0  1 12  4 13 12  3 13 12]\n",
            " [ 2  3  4  5 14  4  3 12  3  2]\n",
            " [12 14 14 15 14  3  2  1  2  1]\n",
            " [13  6 15 14  5 13  4  3  3 11]\n",
            " [ 3 14  5  4  5 15 16 14 14  3]\n",
            " [ 2 12 12  2 12 14 15 14  4 11]]\n",
            "[0 0 0 0 0 0 0 0 0 0 0 0 0 0 0 0 0 0 0 0]\n",
            "[0 0 0 1 0 0 0 0 0 0 0 0 1 1 0 0 0 0 0 0]\n",
            "[[0 0 0 1 0 0 0 1 0 0]\n",
            " [0 1 1 0 0 0 0 1 0 0]\n",
            " [0 1 0 0 0 0 0 1 0 1]\n",
            " [0 0 0 0 0 0 0 1 0 1]\n",
            " [0 0 0 1 0 1 1 1 1 1]\n",
            " [0 1 0 0 0 0 1 1 1 0]\n",
            " [1 0 0 0 0 1 0 0 0 0]\n",
            " [1 0 0 0 0 1 0 1 1 0]\n",
            " [1 0 0 0 0 0 0 0 0 1]\n",
            " [0 1 1 0 1 0 0 0 0 0]]\n"
          ]
        }
      ]
    },
    {
      "cell_type": "code",
      "source": [
        "p = 0.5\n",
        "\n",
        "random_array = np.random.choice((0,1), size = (5, 5), p = (1-p, p))\n",
        "print(random_array)"
      ],
      "metadata": {
        "id": "3Xp-L71OM9Q_",
        "outputId": "dee78cae-0461-423a-80a9-cb0b9b783e5f",
        "colab": {
          "base_uri": "https://localhost:8080/"
        }
      },
      "execution_count": 4,
      "outputs": [
        {
          "output_type": "stream",
          "name": "stdout",
          "text": [
            "[[1 1 1 0 0]\n",
            " [1 0 1 0 1]\n",
            " [0 1 0 0 0]\n",
            " [0 1 0 0 0]\n",
            " [1 1 1 0 0]]\n"
          ]
        }
      ]
    },
    {
      "cell_type": "code",
      "source": [
        "# Ex. 2 experimental setup\n",
        "\n",
        "class BetterLife2D(Life2D):\n",
        "    \"\"\" Improvements on the basic Life2D model \"\"\"\n",
        "\n",
        "    def __init__(self, n_rows, n_cols):\n",
        "\n",
        "      self.n_rows = n_rows\n",
        "      self.n_cols = n_cols\n",
        "\n",
        "    def randomize_state(self, p):\n",
        "        \"\"\" Randomize the state of this GoL, where probability of a \"live\" cell is p \"\"\"\n",
        "        # Ex. 2 your code here...\n",
        "        random_array = np.random.choice([0,1], size = (self.n_rows, self.n_cols), p = (1-p, p))\n",
        "        print(random_array)\n",
        "        #return random_array\n",
        "\n",
        "\n",
        "def random_life(p, n_rows, n_cols):\n",
        "    \"\"\" Return a Life2D object of given dimensions with initial randomized state where \"live\" cells have probability p \"\"\"\n",
        "    # Ex. 2 your code here...\n",
        "    random_array2 = BetterLife2D.randomize_state(owen, p)\n",
        "    return random_array2\n",
        "\n",
        "# Test Cases\n",
        "\n",
        "owen = BetterLife2D(10, 10)\n",
        "model = owen.randomize_state(0.5)\n",
        "\n",
        "random_life(0.5, owen.n_rows, owen.n_cols)"
      ],
      "metadata": {
        "id": "0wjF6iDsaRiO"
      },
      "execution_count": null,
      "outputs": []
    }
  ]
}