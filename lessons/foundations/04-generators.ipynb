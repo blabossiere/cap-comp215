{
  "cells": [
    {
      "cell_type": "markdown",
      "source": [
        "# Python Foundations:  Generators\n",
        "New Python syntax / concepts - generator functions and expressions\n",
        "\n",
        "Foundations notebook available on Github from the powderflask/cap-comp215 repository.\n",
        "As usual, the first code block just imports the modules we will use."
      ],
      "metadata": {
        "collapsed": false,
        "id": "b440028b0e4da231"
      },
      "id": "b440028b0e4da231"
    },
    {
      "cell_type": "code",
      "execution_count": 2,
      "outputs": [],
      "source": [
        "import math\n",
        "from pprint import pprint"
      ],
      "metadata": {
        "ExecuteTime": {
          "end_time": "2024-01-01T21:46:43.015316Z",
          "start_time": "2024-01-01T21:46:43.010889Z"
        },
        "id": "2d782bf8ed66d7ed"
      },
      "id": "2d782bf8ed66d7ed"
    },
    {
      "cell_type": "markdown",
      "source": [
        "\n",
        "## Generator expressions\n",
        "A `generator` is a series of values that may only be accessed in sequence, from the start.\n",
        "\n",
        "Once your algorithm \"consumes\" a value from the generator, it is gone and cannot be retrieved again.\n",
        "Thus, unlike a `list`, a `generator` can have infinite length - we will see some examples of this later.\n",
        "\n",
        "These properties allow generators to be very efficient - they are generally designed to perform any computation required for each value \"just in time\", and thus consume almost no memory since the next data value doesn't actually exist until it is \"consumed\".  That's confusing!  Let's look at an example...\n",
        "\n",
        "A `generator expression` looks like a list comprehension, but uses parentheses (round brackets):"
      ],
      "metadata": {
        "collapsed": false,
        "id": "6a2d10bd5d4052ab"
      },
      "id": "6a2d10bd5d4052ab"
    },
    {
      "cell_type": "code",
      "execution_count": 15,
      "outputs": [
        {
          "output_type": "stream",
          "name": "stdout",
          "text": [
            "<generator object <genexpr> at 0x7a43390edfc0>\n",
            "(0, 1, 2)\n",
            "(1, 2, 3)\n",
            "[(2, 3, 4), (3, 4, 5), (4, 5, 6), (5, 6, 7), (6, 7, 8), (7, 8, 9), (8, 9, 10)]\n",
            "[]\n",
            "<generator object <genexpr> at 0x7a43390edfc0>\n"
          ]
        }
      ],
      "source": [
        "# 3-tuples of adjacent integers...\n",
        "neighbours = ((i-1, i, i+1) for i in range(1, 10))\n",
        "print(neighbours)\n",
        "# we can pull one item at a time out of a generator using the built-in next() function\n",
        "print(next(neighbours))\n",
        "print(next(neighbours))\n",
        "# we can turn a generator into a list to examine the rest of its elements (though this somewhat defeats the purpose!)\n",
        "print(list(neighbours))\n",
        "# Notice: once the \"stream\" has flowed past, it is empty - there is no way to \"replenish\" it.\n",
        "print(list(neighbours))\n",
        "print(neighbours)"
      ],
      "metadata": {
        "ExecuteTime": {
          "end_time": "2024-01-01T21:46:43.029858Z",
          "start_time": "2024-01-01T21:46:43.019931Z"
        },
        "id": "dca2fe6b5a89c206",
        "outputId": "60112d54-9d35-4124-8623-2738821bf248",
        "colab": {
          "base_uri": "https://localhost:8080/"
        }
      },
      "id": "dca2fe6b5a89c206"
    },
    {
      "cell_type": "code",
      "source": [
        "# in-class example\n",
        "\n",
        "def get_neighbours(n=10):\n",
        "  for i in range(1, n):\n",
        "    yield(i-1, i, i+1)\n",
        "\n",
        "neighs = get_neighbours()\n",
        "next(neighs)\n",
        "next(neighs)\n",
        "list(neighs)\n",
        "\n",
        "neigh2 = get_neighbours()\n",
        "list(neighs), list(neigh2)\n",
        "\n",
        "for neigh in get_neighbours():\n",
        "  print(neigh)\n",
        "\n",
        "get_neighbours()"
      ],
      "metadata": {
        "id": "NzEV8HJSmL1U",
        "outputId": "2f51271f-05e1-415d-8e4c-41882984fae1",
        "colab": {
          "base_uri": "https://localhost:8080/"
        }
      },
      "id": "NzEV8HJSmL1U",
      "execution_count": 14,
      "outputs": [
        {
          "output_type": "stream",
          "name": "stdout",
          "text": [
            "(0, 1, 2)\n",
            "(1, 2, 3)\n",
            "(2, 3, 4)\n",
            "(3, 4, 5)\n",
            "(4, 5, 6)\n",
            "(5, 6, 7)\n",
            "(6, 7, 8)\n",
            "(7, 8, 9)\n",
            "(8, 9, 10)\n"
          ]
        },
        {
          "output_type": "execute_result",
          "data": {
            "text/plain": [
              "<generator object get_neighbours at 0x7a43390ee180>"
            ]
          },
          "metadata": {},
          "execution_count": 14
        }
      ]
    },
    {
      "cell_type": "markdown",
      "source": [
        "## Generator Functions\n",
        "Generator expressions are very powerful when used effectively, but are generally limited to simple map and filter operations.  If your generator needs a more complex algorithm, or you want it to be more reusable, you can write it as a function.\n",
        "\n",
        "Here is the same generator written as a function:"
      ],
      "metadata": {
        "collapsed": false,
        "id": "80830e92384112b3"
      },
      "id": "80830e92384112b3"
    },
    {
      "cell_type": "code",
      "source": [
        "import random\n",
        "\n",
        "def dice_rolls():\n",
        "  while True:\n",
        "    yield(random.randint(1,6), random.randint(1,6))\n",
        "\n",
        "for i, roll in zip(range(10), dice_rolls()):\n",
        "  print(f'{i}th roll:', roll)"
      ],
      "metadata": {
        "id": "fqhhqpACtqNp",
        "outputId": "eaec04dd-889d-42c2-b8af-787a91cfaabd",
        "colab": {
          "base_uri": "https://localhost:8080/"
        }
      },
      "id": "fqhhqpACtqNp",
      "execution_count": 18,
      "outputs": [
        {
          "output_type": "stream",
          "name": "stdout",
          "text": [
            "0th roll: (6, 3)\n",
            "1th roll: (2, 5)\n",
            "2th roll: (1, 6)\n",
            "3th roll: (6, 5)\n",
            "4th roll: (1, 4)\n",
            "5th roll: (1, 5)\n",
            "6th roll: (4, 5)\n",
            "7th roll: (2, 1)\n",
            "8th roll: (5, 6)\n",
            "9th roll: (3, 6)\n"
          ]
        }
      ]
    },
    {
      "cell_type": "code",
      "execution_count": null,
      "outputs": [],
      "source": [
        "def neighbourhoods(rng:range) -> tuple:\n",
        "    \"\"\" Generate 3-tuple neighbourhoods for each value in given range object \"\"\"\n",
        "    for i in rng:\n",
        "        yield (i-1, i, i+1)\n",
        "\n",
        "n = neighbourhoods(range(1, 10))\n",
        "print(n)\n",
        "print(next(n))\n",
        "print(next(n))\n",
        "print(list(n))\n",
        "print(list(n))"
      ],
      "metadata": {
        "ExecuteTime": {
          "end_time": "2024-01-01T21:46:43.030245Z",
          "start_time": "2024-01-01T21:46:43.022449Z"
        },
        "id": "6b0a97d46538a205"
      },
      "id": "6b0a97d46538a205"
    },
    {
      "cell_type": "markdown",
      "source": [
        "## Infinite Generator\n",
        "It is tempting to think of a generator as being similar to a list or tuple.  That's a bad model and will cause confusion and bugs.  A generator is best thought of as a \"stream of values\".  Each time you get the `next` value, you \"consume\" it, removing that value from the stream.   That's not how a list works at all!\n",
        "\n",
        "It is easiest to see the differences with an \"infinite\" generator - no such list can possibly exist, since the computer has a finite amount of memory in which to store the list.  But remember, generators a not stored in memory, their values are computed \"just in time\"!\n",
        "\n",
        "Some examples of \"infinite generators\" would be the digits of `pi`, or all prime numbers..."
      ],
      "metadata": {
        "collapsed": false,
        "id": "379e3dc97ca097d6"
      },
      "id": "379e3dc97ca097d6"
    },
    {
      "cell_type": "code",
      "execution_count": null,
      "outputs": [],
      "source": [
        "# Example: a generator of prime numbers\n",
        "# Note: These naive algorithms are to illustrate generators only.  There are more efficient ways to generate prime numbers!\n",
        "\n",
        "def is_prime(n):\n",
        "    \"\"\" Return True iff integer n is a prime number \"\"\"\n",
        "    # Note\n",
        "    assert type(n) is int and n >= 2\n",
        "    for d in range (2, round(math.sqrt(n)) + 1):\n",
        "        if n % d == 0:\n",
        "            return False\n",
        "    return True\n",
        "\n",
        "assert is_prime(11)\n",
        "assert is_prime(37)\n",
        "assert not is_prime(9)"
      ],
      "metadata": {
        "ExecuteTime": {
          "end_time": "2024-01-01T21:46:43.030373Z",
          "start_time": "2024-01-01T21:46:43.026161Z"
        },
        "id": "46be5f43e9af213d"
      },
      "id": "46be5f43e9af213d"
    },
    {
      "cell_type": "code",
      "execution_count": null,
      "outputs": [],
      "source": [
        "def primes():\n",
        "    \"\"\" An infinite stream of prime numbers.  Warning: do not try to make a list out of this!! \"\"\"\n",
        "    n = 2\n",
        "    while True:\n",
        "        while not is_prime(n):\n",
        "            n+=1\n",
        "        yield n\n",
        "        n+=1\n",
        "\n",
        "p = primes()\n",
        "N = 200\n",
        "pprint(f\"First {N} prime numbers: {[next(p) for _ in range(N)]}\")\n",
        "# A generator function can be re-used by calling it again...\n",
        "pprint(f\"Sum of first {N} prime numbers: {sum(p for p,_ in zip(primes(), range(N)))}\")"
      ],
      "metadata": {
        "ExecuteTime": {
          "end_time": "2024-01-01T21:46:43.040761Z",
          "start_time": "2024-01-01T21:46:43.034275Z"
        },
        "id": "9b7cf89ad542cc42"
      },
      "id": "9b7cf89ad542cc42"
    },
    {
      "cell_type": "markdown",
      "source": [
        "### Generators everywhere!!!\n",
        "Once you learn to see them, you'll spot generators everywhere (at least in well-written code).\n",
        "\n",
        "In the last line of code from the example above, there are **4** generators!\n",
        "\n",
        "    sum(p for p,_ in zip(primes(), range(N)))\n",
        "\n",
        "1. `(p for p,_ in ....)`  a simple generator expression\n",
        "2. `zip(...)`  zip is a generator function that returns n-tuples from its input sequences\n",
        "3. `range(...)`  range is also a generator function that returns integers in a series\n",
        "4. `primes()`  of course, the generator function we just wrote."
      ],
      "metadata": {
        "collapsed": false,
        "id": "1bc20530589240c2"
      },
      "id": "1bc20530589240c2"
    },
    {
      "cell_type": "code",
      "execution_count": null,
      "outputs": [],
      "source": [],
      "metadata": {
        "ExecuteTime": {
          "end_time": "2024-01-01T21:46:43.040972Z",
          "start_time": "2024-01-01T21:46:43.036342Z"
        },
        "id": "21075c9799e585d5"
      },
      "id": "21075c9799e585d5"
    }
  ],
  "metadata": {
    "kernelspec": {
      "display_name": "Python 3",
      "language": "python",
      "name": "python3"
    },
    "language_info": {
      "codemirror_mode": {
        "name": "ipython",
        "version": 2
      },
      "file_extension": ".py",
      "mimetype": "text/x-python",
      "name": "python",
      "nbconvert_exporter": "python",
      "pygments_lexer": "ipython2",
      "version": "2.7.6"
    },
    "colab": {
      "provenance": []
    }
  },
  "nbformat": 4,
  "nbformat_minor": 5
}