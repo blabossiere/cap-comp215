{
  "nbformat": 4,
  "nbformat_minor": 0,
  "metadata": {
    "colab": {
      "name": "week4.ipynb",
      "provenance": [],
      "include_colab_link": true
    },
    "kernelspec": {
      "name": "python3",
      "language": "python",
      "display_name": "Python 3 (ipykernel)"
    },
    "language_info": {
      "name": "python"
    }
  },
  "cells": [
    {
      "cell_type": "markdown",
      "metadata": {
        "id": "view-in-github",
        "colab_type": "text"
      },
      "source": [
        "<a href=\"https://colab.research.google.com/github/blabossiere/cap-comp215/blob/main/lessons/week04-graphs.ipynb\" target=\"_parent\"><img src=\"https://colab.research.google.com/assets/colab-badge.svg\" alt=\"Open In Colab\"/></a>"
      ]
    },
    {
      "cell_type": "markdown",
      "source": [
        "# Graphs using networkx\n",
        "Our week 4 lesson workbook, available on Github from the powderflask/cap-comp215 repository.\n",
        "\n",
        "As usual, the first code block just imports the modules we will use."
      ],
      "metadata": {
        "id": "WBMC0GrjNRTM"
      }
    },
    {
      "cell_type": "code",
      "execution_count": 1,
      "outputs": [],
      "source": [
        "%matplotlib inline\n",
        "\n",
        "import random\n",
        "from timeit import timeit\n",
        "from typing import Sequence\n",
        "\n",
        "import matplotlib.pyplot as plt\n",
        "import networkx as nx"
      ],
      "metadata": {
        "pycharm": {
          "name": "#%%\n"
        },
        "ExecuteTime": {
          "end_time": "2024-01-02T01:24:24.660128Z",
          "start_time": "2024-01-02T01:24:24.595483Z"
        },
        "id": "4b3udGo3vW7a"
      }
    },
    {
      "cell_type": "markdown",
      "source": [
        "## Directed graph\n",
        "\n",
        "The first example is a directed graph that represents a social network with four nodes."
      ],
      "metadata": {
        "collapsed": false,
        "id": "zRYFyjSHvW7e"
      }
    },
    {
      "cell_type": "code",
      "execution_count": 2,
      "outputs": [
        {
          "output_type": "execute_result",
          "data": {
            "text/plain": [
              "['John', 'Alice', 'Bob', 'Chuck']"
            ]
          },
          "metadata": {},
          "execution_count": 2
        }
      ],
      "source": [
        "social_network = nx.DiGraph()\n",
        "social_network.add_node('John')\n",
        "social_network.add_node('Alice')\n",
        "social_network.add_node('Bob')\n",
        "social_network.add_node('Chuck')\n",
        "list(social_network.nodes())"
      ],
      "metadata": {
        "ExecuteTime": {
          "end_time": "2024-01-02T01:24:24.665334Z",
          "start_time": "2024-01-02T01:24:24.662470Z"
        },
        "id": "ZiUouWkzvW7f",
        "outputId": "343d5759-9e3f-4c93-d368-68b958ccd34b",
        "colab": {
          "base_uri": "https://localhost:8080/"
        }
      }
    },
    {
      "cell_type": "markdown",
      "source": [
        "Add some edges between nodes to represent the \"Follows\" relationship (e.g., Alice \"follows\" Bob)"
      ],
      "metadata": {
        "collapsed": false,
        "id": "yei8phb-vW7i"
      }
    },
    {
      "cell_type": "code",
      "execution_count": 3,
      "outputs": [
        {
          "output_type": "execute_result",
          "data": {
            "text/plain": [
              "[('John', 'Bob'),\n",
              " ('John', 'Alice'),\n",
              " ('Alice', 'Bob'),\n",
              " ('Alice', 'Chuck'),\n",
              " ('Bob', 'Alice'),\n",
              " ('Bob', 'Chuck')]"
            ]
          },
          "metadata": {},
          "execution_count": 3
        }
      ],
      "source": [
        "social_network.add_edge('Alice', 'Bob')\n",
        "social_network.add_edge('Alice', 'Chuck')\n",
        "social_network.add_edge('Bob', 'Alice')\n",
        "social_network.add_edge('Bob', 'Chuck')\n",
        "social_network.add_edge('John','Bob')\n",
        "social_network.add_edge('John','Alice')\n",
        "list(social_network.edges())"
      ],
      "metadata": {
        "ExecuteTime": {
          "end_time": "2024-01-02T01:24:24.670166Z",
          "start_time": "2024-01-02T01:24:24.667316Z"
        },
        "id": "a1Zl7CfTvW7i",
        "outputId": "c9b0e5ca-6286-4b75-dbdd-419d78da9d8b",
        "colab": {
          "base_uri": "https://localhost:8080/"
        }
      }
    },
    {
      "cell_type": "markdown",
      "source": [
        "And here's how to draw the graph.\n",
        "Modify the draw parameters to see how to customize the display [[docs](https://networkx.org/documentation/stable/reference/generated/networkx.drawing.nx_pylab.draw_networkx.html)]"
      ],
      "metadata": {
        "collapsed": false,
        "id": "fpQ7soSkvW7j"
      }
    },
    {
      "cell_type": "code",
      "execution_count": 4,
      "outputs": [
        {
          "output_type": "display_data",
          "data": {
            "text/plain": [
              "<Figure size 640x480 with 1 Axes>"
            ],
            "image/png": "[encoded data removed]"
          },
          "metadata": {}
        }
      ],
      "source": [
        "nx.draw_circular(social_network,\n",
        "                 node_color='#bbddff',\n",
        "                 node_size=2000,\n",
        "                 with_labels=True)\n",
        "plt.axis('equal')\n",
        "plt.show()"
      ],
      "metadata": {
        "ExecuteTime": {
          "end_time": "2024-01-02T01:24:24.804445Z",
          "start_time": "2024-01-02T01:24:24.674828Z"
        },
        "id": "FS1T2PInvW7k",
        "outputId": "3b844544-3883-446a-993f-53965a003492",
        "colab": {
          "base_uri": "https://localhost:8080/",
          "height": 516
        }
      }
    },
    {
      "cell_type": "markdown",
      "source": [
        "### Exercise 1: build your own social network\n",
        "Create a small social network graph of your own that shows how a group of people are inter-related.\n",
        "Don't modify the code above, instead, create and draw a new graph below."
      ],
      "metadata": {
        "collapsed": false,
        "id": "ve-9kjnBvW7l"
      }
    },
    {
      "cell_type": "code",
      "execution_count": 5,
      "outputs": [],
      "source": [
        "# Ex. 1 your code here"
      ],
      "metadata": {
        "ExecuteTime": {
          "end_time": "2024-01-02T01:24:24.805460Z",
          "start_time": "2024-01-02T01:24:24.801076Z"
        },
        "id": "6xvwRqTUvW7m"
      }
    },
    {
      "cell_type": "markdown",
      "source": [
        "## Undirected graph\n",
        "\n",
        "The second example is an undirected graph that represents cities and the driving times between them.\n",
        "\n",
        "`locations` is a dictionary that maps from each city to a spatial coordinate and\n",
        "`drive_times` is a dictionary that maps a pair of cities to the driving time in minutes between them."
      ],
      "metadata": {
        "collapsed": false,
        "id": "b6vCku8qvW7n"
      }
    },
    {
      "cell_type": "code",
      "execution_count": 6,
      "outputs": [
        {
          "output_type": "execute_result",
          "data": {
            "text/plain": [
              "'From North Van at (5, 5) the drive time to Burnaby is 20 minutes.'"
            ],
            "application/vnd.google.colaboratory.intrinsic+json": {
              "type": "string"
            }
          },
          "metadata": {},
          "execution_count": 6
        }
      ],
      "source": [
        "locations = dict(NorthVan=(5, 5),\n",
        "                 Burnaby=(7, 1),\n",
        "                 Vancouver=(0, 0),  # position Vancouver at the centre of the universe, of course ;-)\n",
        "                 Richmond=(-1, -4))\n",
        "\n",
        "drive_times = {('NorthVan', 'Burnaby'): 20,\n",
        "               ('NorthVan', 'Vancouver'): 35,\n",
        "               ('Burnaby', 'Vancouver'): 15,\n",
        "               ('Vancouver', 'Richmond'): 25}\n",
        "\n",
        "f\"From North Van at {locations['NorthVan']} the drive time to Burnaby is {drive_times[('NorthVan', 'Burnaby')]} minutes.\""
      ],
      "metadata": {
        "ExecuteTime": {
          "end_time": "2024-01-02T01:24:24.808102Z",
          "start_time": "2024-01-02T01:24:24.806384Z"
        },
        "id": "acKJSCe8vW7n",
        "outputId": "e2f267b8-05db-4deb-c9dd-aadb0470fbbc",
        "colab": {
          "base_uri": "https://localhost:8080/",
          "height": 35
        }
      }
    },
    {
      "cell_type": "markdown",
      "source": [
        "Now we can use the keys in `locations` to add nodes to a graph,\n",
        "and the `drive_times` keys to define the edges between them\n",
        "Notice how when a `dict` object is treated as a sequence (rather than a mapping), it is a sequence of it's **keys**."
      ],
      "metadata": {
        "collapsed": false,
        "id": "85ejRJeUvW7p"
      }
    },
    {
      "cell_type": "code",
      "execution_count": 7,
      "outputs": [
        {
          "output_type": "execute_result",
          "data": {
            "text/plain": [
              "(NodeView(('NorthVan', 'Burnaby', 'Vancouver', 'Richmond')),\n",
              " EdgeView([('NorthVan', 'Burnaby'), ('NorthVan', 'Vancouver'), ('Burnaby', 'Vancouver'), ('Vancouver', 'Richmond')]))"
            ]
          },
          "metadata": {},
          "execution_count": 7
        }
      ],
      "source": [
        "cities = nx.Graph()\n",
        "cities.add_nodes_from(locations)\n",
        "cities.add_edges_from(drive_times)\n",
        "\n",
        "cities.nodes(), cities.edges()"
      ],
      "metadata": {
        "ExecuteTime": {
          "end_time": "2024-01-02T01:24:24.814743Z",
          "start_time": "2024-01-02T01:24:24.809147Z"
        },
        "id": "MMT5b2eUvW7q",
        "outputId": "7913153f-6003-4a3e-aa19-b9363da14688",
        "colab": {
          "base_uri": "https://localhost:8080/"
        }
      }
    },
    {
      "cell_type": "markdown",
      "source": [
        "And we can draw the graph using `locations` to arrange nodes spatially and with `drive_times` to label the edges."
      ],
      "metadata": {
        "collapsed": false,
        "id": "QcUul5WHvW7r"
      }
    },
    {
      "cell_type": "code",
      "execution_count": 8,
      "outputs": [
        {
          "output_type": "display_data",
          "data": {
            "text/plain": [
              "<Figure size 640x480 with 1 Axes>"
            ],
            "image/png": "[encoded data removed]"
          },
          "metadata": {}
        }
      ],
      "source": [
        "nx.draw(cities, locations,\n",
        "        node_color='#99ff99',\n",
        "        node_shape='s',\n",
        "        node_size=3000,\n",
        "        with_labels=True)\n",
        "\n",
        "nx.draw_networkx_edge_labels(cities, locations,\n",
        "                             edge_labels=drive_times)\n",
        "\n",
        "plt.axis('equal')\n",
        "plt.show()"
      ],
      "metadata": {
        "ExecuteTime": {
          "end_time": "2024-01-02T01:24:24.883295Z",
          "start_time": "2024-01-02T01:24:24.814832Z"
        },
        "id": "bt7SXiH0vW7s",
        "outputId": "425d5c06-fe64-492a-b74e-992fd2f2b99d",
        "colab": {
          "base_uri": "https://localhost:8080/",
          "height": 516
        }
      }
    },
    {
      "cell_type": "markdown",
      "source": [
        "### Exercise 2: add some cities\n",
        "Add at least 2 additional nodes (cities) and edges (drive times) and re-draw the graph.\n",
        "Improve the data in your version of the graph by looking up estimated / average drive times.\n",
        "Don't modify the code above - re-develop a complete solution with your additions / changes in the code block below."
      ],
      "metadata": {
        "collapsed": false,
        "id": "bX2s4oZdvW7t"
      }
    },
    {
      "cell_type": "code",
      "execution_count": 9,
      "outputs": [],
      "source": [
        "# Solution to Ex. 2 goes here..."
      ],
      "metadata": {
        "ExecuteTime": {
          "end_time": "2024-01-02T01:24:24.883932Z",
          "start_time": "2024-01-02T01:24:24.876042Z"
        },
        "id": "q2fU3EBdvW7u"
      }
    },
    {
      "cell_type": "markdown",
      "source": [
        "## Complete graph\n",
        "\n",
        "In a [complete graph](https://en.wikipedia.org/wiki/Complete_graph), every distinct pair of nodes is connected by an edge.\n",
        "We'll decompose this problem into a simpler one.\n",
        "\n",
        "### Exercise 3: all pairs algorithm\n",
        "Write a function, `all_pairs(objects:list)`, that returns a generator that returns the 2-tuples representing the complete set of distinct, undirected object pairs."
      ],
      "metadata": {
        "collapsed": false,
        "id": "dfI5CFZ6vW7v"
      }
    },
    {
      "cell_type": "code",
      "execution_count": 16,
      "outputs": [
        {
          "output_type": "stream",
          "name": "stdout",
          "text": [
            "('x', 'y')\n",
            "('x', 'z')\n",
            "('y', 'z')\n"
          ]
        }
      ],
      "source": [
        "def all_pairs(objects:Sequence):\n",
        "    \"\"\" Return a generator with the complete set of distinct object pairs, as 2-tuples, from the given sequence of objects \"\"\"\n",
        "    # Solution for Ex. 3 here\n",
        "    for i in range(len(objects)):\n",
        "      for j in range(i+1, len(objects)):\n",
        "        yield(objects[i], objects[j])\n",
        "\n",
        "\n",
        "# unit test\n",
        "assert set( all_pairs(('x', 'y', 'z')) ) == {('x', 'y'), ('x', 'z'), ('y', 'z')}\n",
        "\n",
        "for pair in all_pairs('x' 'y' 'z'):\n",
        "  print(pair)"
      ],
      "metadata": {
        "ExecuteTime": {
          "end_time": "2024-01-02T01:24:24.884467Z",
          "start_time": "2024-01-02T01:24:24.880150Z"
        },
        "id": "V8b8yNTovW7w",
        "outputId": "79a5c15f-df9e-4eff-938f-f0241ea61533",
        "colab": {
          "base_uri": "https://localhost:8080/"
        }
      }
    },
    {
      "cell_type": "markdown",
      "source": [
        "`make_complete_graph` makes a `Graph` with the given number of nodes and edges between each distinct pair of nodes."
      ],
      "metadata": {
        "collapsed": false,
        "id": "_Lg_OktZvW7x"
      }
    },
    {
      "cell_type": "code",
      "execution_count": null,
      "outputs": [],
      "source": [
        "def make_complete_graph(n):\n",
        "    \"\"\" Return a \"complete\" undirected Graph with n nodes labeled 0 .. n-1 \"\"\"\n",
        "    graph = nx.Graph()\n",
        "    labels = range(n)\n",
        "    graph.add_nodes_from(labels)\n",
        "    graph.add_edges_from(all_pairs(labels))\n",
        "    return graph"
      ],
      "metadata": {
        "ExecuteTime": {
          "end_time": "2024-01-02T01:24:24.886696Z",
          "start_time": "2024-01-02T01:24:24.883939Z"
        },
        "id": "p0kv9C_8vW7y"
      }
    },
    {
      "cell_type": "code",
      "execution_count": null,
      "outputs": [],
      "source": [
        "complete = make_complete_graph(10)\n",
        "f'Complete Graph has {complete.number_of_nodes()} nodes and {complete.number_of_edges()} edges'"
      ],
      "metadata": {
        "ExecuteTime": {
          "end_time": "2024-01-02T01:24:24.893744Z",
          "start_time": "2024-01-02T01:24:24.889735Z"
        },
        "id": "Tpe8Hz-cvW7y"
      }
    },
    {
      "cell_type": "code",
      "execution_count": null,
      "outputs": [],
      "source": [
        "nx.draw_circular(complete,\n",
        "                 node_color='#ffaa99',\n",
        "                 node_size=1000,\n",
        "                 with_labels=True)\n",
        "plt.gca().set(\n",
        "    title=f'Complete Graph has {complete.number_of_nodes()} nodes and {complete.number_of_edges()} edges'\n",
        ")\n",
        "plt.show()"
      ],
      "metadata": {
        "ExecuteTime": {
          "end_time": "2024-01-02T01:24:24.973490Z",
          "start_time": "2024-01-02T01:24:24.898205Z"
        },
        "id": "OuuLdG81vW7z"
      }
    },
    {
      "cell_type": "markdown",
      "source": [
        "The `neighbors` method of a Graph object returns the nodes with an edge a given node.  In a complete graph, that is all other nodes!"
      ],
      "metadata": {
        "collapsed": false,
        "id": "wXspIX6gvW70"
      }
    },
    {
      "cell_type": "code",
      "execution_count": null,
      "outputs": [],
      "source": [
        "node = 3\n",
        "f'Neighbours of node {node}:  {list(complete.neighbors(0))}'"
      ],
      "metadata": {
        "ExecuteTime": {
          "end_time": "2024-01-02T01:24:24.978796Z",
          "start_time": "2024-01-02T01:24:24.973911Z"
        },
        "id": "C9dAdHZpvW71"
      }
    },
    {
      "cell_type": "markdown",
      "source": [
        "### Exercise 4: make a complete graph\n",
        "Create and draw another complete graph with a different number of nodes below.\n",
        "Write an `assert` statement that verifies each node has the expected number of `neighbors`"
      ],
      "metadata": {
        "collapsed": false,
        "id": "OgGSr8zPvW72"
      }
    },
    {
      "cell_type": "code",
      "execution_count": null,
      "outputs": [],
      "source": [
        "# Solution for Ex. 4 here..."
      ],
      "metadata": {
        "ExecuteTime": {
          "end_time": "2024-01-02T01:24:24.982656Z",
          "start_time": "2024-01-02T01:24:24.977679Z"
        },
        "id": "L2xsvxBhvW72"
      }
    },
    {
      "cell_type": "markdown",
      "source": [
        "## Random graphs\n",
        "from the textbook...\n",
        "> One of the more interesting \\[random graphs\\] is the Erdős-Rényi model, studied by Paul Erdős and Alfréd Rényi in the 1960s.\n",
        "\n",
        "> An Erdős-Rényi graph (ER graph) is characterized by two parameters: $n$ is the number of nodes and $p$ is the probability that there is an edge between any two nodes.\n",
        "\n",
        "> Erdős and Rényi studied the properties of these random graphs; one of their surprising results is the existence of abrupt changes in the properties of random graphs as random edges are added.\n",
        "\n",
        "In this week's lab you will be re-producing this computational experiment.\n",
        "To prepare, we will work on the experimental setup.  First step is to develop the code to generate a \"random graph\"..."
      ],
      "metadata": {
        "collapsed": false,
        "id": "dVSlarBtvW73"
      }
    },
    {
      "cell_type": "markdown",
      "source": [
        "## Random Numbers\n",
        "This is a big topic we will dig deeper into this week.  A short introduction for now...\n",
        "\n",
        "We `seed` Python's built-in random number generator so we get the same sequence each time (to facilitate debugging and comprehension!)  Comment this out to create an actual \"random\" graph..."
      ],
      "metadata": {
        "collapsed": false,
        "id": "p19-hJzQvW74"
      }
    },
    {
      "cell_type": "code",
      "execution_count": null,
      "outputs": [],
      "source": [
        "random.seed(6) # Comment this out to run randomized experiments"
      ],
      "metadata": {
        "ExecuteTime": {
          "end_time": "2024-01-02T01:24:24.983339Z",
          "start_time": "2024-01-02T01:24:24.980271Z"
        },
        "id": "hRKQ8FWSvW75"
      }
    },
    {
      "cell_type": "markdown",
      "source": [
        "### Exercise 5: simple coin toss\n",
        "We want a boolean function that returns True or False at random.\n",
        "\n",
        "In other words, repeated calls to the function below will generate a random sequence of True/False values.\n",
        "It's easiest to think of this as a simulated \"coin toss\", where True is \"heads\" and False is \"tails\"."
      ],
      "metadata": {
        "collapsed": false,
        "id": "-N4g-z6uvW76"
      }
    },
    {
      "cell_type": "code",
      "execution_count": null,
      "outputs": [],
      "source": [
        "def coin_toss(p=0.5):\n",
        "    \"\"\" Simulate flipping a biased \"coin\", where the probability of 'heads' is p.  Return True iff 'heads', False otherwise \"\"\"\n",
        "    # Solution for Ex. 5 here\n",
        ""
      ],
      "metadata": {
        "ExecuteTime": {
          "end_time": "2024-01-02T01:24:24.988017Z",
          "start_time": "2024-01-02T01:24:24.983624Z"
        },
        "id": "LA-nO1cnvW77"
      }
    },
    {
      "cell_type": "markdown",
      "source": [
        "### Exercise 6: list of coin tosses\n",
        "Define a list comprehension that generated a random sequence of 100 \"fair\" `coin_toss`es  ($p = 0.5$)\n",
        "Count the number \"heads\" (True) and \"tails\" (False) in the list (hint:  `sum(1 for toss in .... if ....)\n",
        "Rerun the experiment several times to gain a deeper understanding of what this function does.\n",
        "Experiment with different values of $p$.  What is the meaning of $p$ in this context?"
      ],
      "metadata": {
        "collapsed": false,
        "id": "M-kEMvX-vW78"
      }
    },
    {
      "cell_type": "code",
      "execution_count": null,
      "outputs": [],
      "source": [
        "# Solution for Ex. 6 here..."
      ],
      "metadata": {
        "ExecuteTime": {
          "end_time": "2024-01-02T01:24:24.989156Z",
          "start_time": "2024-01-02T01:24:24.987147Z"
        },
        "id": "aB2s4-4hvW7-"
      }
    },
    {
      "cell_type": "markdown",
      "source": [
        "### Exercise 7: random pairs algorithm\n",
        "We need an algorithm that **filters** the list of `all_pairs` to select some of them at random, with some probability, $p$.\n",
        "\n",
        "Write a function `random_pairs` that returns a generator with a random subset of all possible distinct pairs from a set of objects, where each pair has a fixed probability, `p` of appearing in the subset.\n",
        "\n",
        "Notice the algorithm will start with `all_pairs` and apply a **filter** operation to randomly filter some pairs out with probability $p$."
      ],
      "metadata": {
        "collapsed": false,
        "id": "0asYvzIzvW7_"
      }
    },
    {
      "cell_type": "code",
      "execution_count": 28,
      "outputs": [
        {
          "output_type": "stream",
          "name": "stdout",
          "text": [
            "0.7826566034675818\n"
          ]
        }
      ],
      "source": [
        "def random_pairs(objects, p=0.5):\n",
        "  \"\"\" Return a generator of random subset of distinct object pairs (2-tuples), each with a probability of `p` \"\"\"\n",
        "    # Solution to Ex. 7 here...\n",
        "  return (pair for pair in all_pairs(objects) if random.random() < p)\n",
        "\n",
        "\n",
        "# Run some experiments explore how this function works with different value of `p`.\n",
        "# What is the general result for larger or smaller values of `p`?\n",
        "list( random_pairs(('w', 'x', 'y', 'z'), p=0.5))\n",
        "list(random_pairs(('u', 'v', 'w', 'x', 'y', 'z'), p=0.8))\n",
        "print(random.random())"
      ],
      "metadata": {
        "ExecuteTime": {
          "end_time": "2024-01-02T01:24:25.123180Z",
          "start_time": "2024-01-02T01:24:24.991585Z"
        },
        "id": "PV2xOHfvvW7_",
        "outputId": "8d0b70ff-428e-47e4-f31e-da43608054b9",
        "colab": {
          "base_uri": "https://localhost:8080/"
        }
      }
    },
    {
      "cell_type": "markdown",
      "source": [
        "### Finally, a Random Graph!\n",
        "\n",
        "The `make_random_graph` function below makes an ER (Erdős-Rényi) Graph where the probability of an edge between each pair of nodes is $p$.\n",
        "\n",
        "Run a few experiments to get familiar with how this function works and the kinds of graphs it produces for different values of `p`."
      ],
      "metadata": {
        "collapsed": false,
        "id": "Y12pM5UPvW8A"
      }
    },
    {
      "cell_type": "code",
      "execution_count": null,
      "outputs": [],
      "source": [
        "def make_random_graph(n, p):\n",
        "    \"\"\" Return an ER Graph with n nodes, where the probability of an edge between a pair of nodes in p \"\"\"\n",
        "    graph = nx.Graph()\n",
        "    labels = range(n)\n",
        "    graph.add_nodes_from(labels)\n",
        "    graph.add_edges_from(random_pairs(labels, p))\n",
        "    return graph"
      ],
      "metadata": {
        "ExecuteTime": {
          "end_time": "2024-01-02T01:24:25.123684Z",
          "start_time": "2024-01-02T01:24:24.997206Z"
        },
        "id": "Fh3BLKlTvW8B"
      }
    },
    {
      "cell_type": "code",
      "execution_count": null,
      "outputs": [],
      "source": [
        "random_graph = make_random_graph(10, 0.3)\n",
        "print(f'Random Graph has {random_graph.number_of_nodes()} nodes and {random_graph.number_of_edges()} edges')\n",
        "\n",
        "nx.draw_circular(random_graph,\n",
        "                 node_color='#ff99dd',\n",
        "                 node_size=1000,\n",
        "                 with_labels=True)\n",
        "plt.gca().set(\n",
        "    title=f'Random Graph has {random_graph.number_of_nodes()} nodes and {random_graph.number_of_edges()} edges'\n",
        ")\n",
        "plt.show()"
      ],
      "metadata": {
        "ExecuteTime": {
          "end_time": "2024-01-02T01:24:25.162170Z",
          "start_time": "2024-01-02T01:24:25.001065Z"
        },
        "id": "Y_jCEnXFvW8C"
      }
    },
    {
      "cell_type": "markdown",
      "source": [
        "## Connectivity\n",
        "\n",
        "\"A graph is said to be connected if ... there is some path between every pair of vertices.\" [wikipedia](https://en.wikipedia.org/wiki/Connectivity_(graph_theory))\n",
        "\n",
        "To check whether a graph is \"connected\", we'll start by finding all nodes that can be reached, starting at a given node.\n",
        "This algorithm uses a `set` to keep track of nodes we've already `seen` and a `stack` (list) to keep track of nodes we could reach from here."
      ],
      "metadata": {
        "collapsed": false,
        "id": "tONG19SsvW8D"
      }
    },
    {
      "cell_type": "code",
      "execution_count": null,
      "outputs": [],
      "source": [
        "def reachable_nodes(graph, start):\n",
        "    \"\"\" return the set of nodes that are reachable from the given start node\"\"\"\n",
        "\n",
        "    # We will develop this algorithm together in class\n",
        ""
      ],
      "metadata": {
        "ExecuteTime": {
          "end_time": "2024-01-02T01:24:25.162804Z",
          "start_time": "2024-01-02T01:24:25.106832Z"
        },
        "id": "zGSxVl8xvW8E"
      }
    },
    {
      "cell_type": "markdown",
      "source": [
        "In the complete graph, we can reach all nodes from any starting node, but that's not necessarily true for a random graph..."
      ],
      "metadata": {
        "collapsed": false,
        "id": "hEtzQd7YvW8F"
      }
    },
    {
      "cell_type": "code",
      "execution_count": null,
      "outputs": [],
      "source": [
        "reachable_nodes(complete, 1)"
      ],
      "metadata": {
        "ExecuteTime": {
          "end_time": "2024-01-02T01:24:59.977954Z",
          "start_time": "2024-01-02T01:24:59.951625Z"
        },
        "id": "1Y-7dBrrvW8G"
      }
    },
    {
      "cell_type": "code",
      "execution_count": null,
      "outputs": [],
      "source": [
        "reachable_nodes(random_graph, 1)"
      ],
      "metadata": {
        "ExecuteTime": {
          "end_time": "2024-01-02T01:25:00.583420Z",
          "start_time": "2024-01-02T01:25:00.578819Z"
        },
        "id": "e-WtHu2-vW8G"
      }
    },
    {
      "cell_type": "markdown",
      "source": [
        "Now it's straight-forward to determine if the graph **is connected** or not.\n",
        "Of course, a complete graphs is always connected, but a random graph may not be."
      ],
      "metadata": {
        "collapsed": false,
        "id": "fFzcvGU6vW8H"
      }
    },
    {
      "cell_type": "code",
      "execution_count": null,
      "outputs": [],
      "source": [
        "def is_connected(graph):\n",
        "    \"\"\" Return True if the graph is connected, false otherwise. \"\"\"\n",
        "    start = next(iter(graph))   # grab the first node in the graph.  See `foundations/generators`.\n",
        "    reachable = reachable_nodes(graph, start)\n",
        "    return len(reachable) == len(graph)"
      ],
      "metadata": {
        "ExecuteTime": {
          "end_time": "2024-01-02T01:24:25.164288Z",
          "start_time": "2024-01-02T01:24:25.108494Z"
        },
        "id": "T6YKVY4FvW8I"
      }
    },
    {
      "cell_type": "code",
      "execution_count": null,
      "outputs": [],
      "source": [
        "is_connected(complete)"
      ],
      "metadata": {
        "ExecuteTime": {
          "end_time": "2024-01-02T01:24:25.164785Z",
          "start_time": "2024-01-02T01:24:25.111388Z"
        },
        "id": "kdJGgkRfvW8I"
      }
    },
    {
      "cell_type": "code",
      "execution_count": null,
      "outputs": [],
      "source": [
        "is_connected(random_graph)"
      ],
      "metadata": {
        "ExecuteTime": {
          "end_time": "2024-01-02T01:24:25.165284Z",
          "start_time": "2024-01-02T01:24:25.114277Z"
        },
        "id": "4Cm0_3gUvW8J"
      }
    }
  ]
}