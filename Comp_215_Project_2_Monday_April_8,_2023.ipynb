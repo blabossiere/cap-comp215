{
  "nbformat": 4,
  "nbformat_minor": 0,
  "metadata": {
    "colab": {
      "provenance": [],
      "authorship_tag": "ABX9TyNhRkb0e+xY5HDW8d1refCa",
      "include_colab_link": true
    },
    "kernelspec": {
      "name": "python3",
      "display_name": "Python 3"
    },
    "language_info": {
      "name": "python"
    }
  },
  "cells": [
    {
      "cell_type": "markdown",
      "metadata": {
        "id": "view-in-github",
        "colab_type": "text"
      },
      "source": [
        "<a href=\"https://colab.research.google.com/github/blabossiere/cap-comp215/blob/main/Comp_215_Project_2_Monday_April_8%2C_2023.ipynb\" target=\"_parent\"><img src=\"https://colab.research.google.com/assets/colab-badge.svg\" alt=\"Open In Colab\"/></a>"
      ]
    },
    {
      "cell_type": "code",
      "execution_count": 1,
      "metadata": {
        "id": "o9UmzkQ9ux_5"
      },
      "outputs": [],
      "source": [
        "# import modules\n",
        "\n",
        "%matplotlib inline\n",
        "\n",
        "import time\n",
        "from pprint import pprint\n",
        "\n",
        "import matplotlib\n",
        "import matplotlib.pyplot as plt\n",
        "import numpy as np\n",
        "from matplotlib import animation\n",
        "from scipy.signal import correlate2d\n",
        "import math\n",
        "\n",
        "# Configure matplotlib's animation library to work in the browser.\n",
        "matplotlib.rc('animation', html='jshtml')"
      ]
    },
    {
      "cell_type": "code",
      "source": [
        "# Qualitative colour map with value 0 set to white\n",
        "\n",
        "tab20_mod = matplotlib.colormaps['tab20']\n",
        "tab20_mod.colors = ((1,1,1,1), *tab20_mod.colors[1:])\n",
        "\n",
        "def plot_2d_array(array, axes=None, title='', cmap=tab20_mod, **options):\n",
        "    \"\"\"\n",
        "    Plot the 2D array as an image on the given axes  1's will be dark blue, 0's will be light blue.\n",
        "\n",
        "    :param axes: the axes to plot on, or None to use the `plt.gca()` (current axes)\n",
        "    :param options: keyword arguments passed directly to `plt.imshow()`\n",
        "           see https://matplotlib.org/stable/api/_as_gen/matplotlib.axes.Axes.imshow.html\n",
        "    \"\"\"\n",
        "    axes = axes or plt.gca()  # If not axes are provided, draw on current axes\n",
        "    axes.set_title(title)\n",
        "    # Turn off axes labels and tick marks\n",
        "    axes.tick_params(axis='both', which='both', bottom=False, top=False, left=False, right=False ,\n",
        "                     labelbottom=False, labeltop=False, labelleft=False, labelright=False,)\n",
        "    # Defaults for displaying a \"matrix\" with hard-pixel boundaries and (0,0) at top-left\n",
        "    options = {**dict(interpolation='nearest', origin='upper'), **options}\n",
        "    axes.imshow(array, cmap=cmap, **options)"
      ],
      "metadata": {
        "id": "Gb79FWDbvPQa"
      },
      "execution_count": 2,
      "outputs": []
    },
    {
      "cell_type": "code",
      "source": [
        "# Animation Class\n",
        "\n",
        "class Animation2D:\n",
        "    \"\"\"\n",
        "      Animates any 2D model with a step() method and a draw() method, using matplotlib\n",
        "      model.step() should take no parameters - just step the model forward one step.\n",
        "      model.draw() should take 2 parameters, the matpltolib axes to draw on and an integer step number\n",
        "\n",
        "      See https://www.allendowney.com/blog/2019/07/25/matplotlib-animation-in-jupyter/\n",
        "          for a discussion of the pros and cons of various animation techniques in jupyter notebooks\n",
        "    \"\"\"\n",
        "\n",
        "    def __init__(self, model, frames=50, steps_per_frame=1, figsize=(8, 8)):\n",
        "        \"\"\"\n",
        "        :param model: the simulation object to animate, with step() and draw(axes, step) methods\n",
        "        :param frames: number of animation frames to generate\n",
        "        \"\"\"\n",
        "        self.model = model\n",
        "        self.frames = frames\n",
        "        self.steps_per_frame = steps_per_frame\n",
        "        self.fig, self.ax = plt.subplots(figsize=figsize)\n",
        "\n",
        "    def animation_step(self, step):\n",
        "        \"\"\" Step the model forward and draw the plot \"\"\"\n",
        "        if step > 0:\n",
        "            for _ in range(self.steps_per_frame):\n",
        "                self.model.step()\n",
        "        self.model.draw(self.ax, step=step * self.steps_per_frame)\n",
        "\n",
        "    def show(self):\n",
        "        \"\"\" return the matplotlib animation object, ready for display \"\"\"\n",
        "        anim = animation.FuncAnimation(self.fig, self.animation_step, frames=self.frames)\n",
        "        plt.close()  # this ensures the last frame is not shown as a separate plot\n",
        "        return anim\n",
        "\n",
        "    def animate(self, interval=None):\n",
        "        \"\"\" Animate the model simulation directly in the notebook display block \"\"\"\n",
        "        from IPython.display import clear_output\n",
        "        try:\n",
        "            for i in range(self.frames):\n",
        "                clear_output(wait=True)  # clear the IPython display\n",
        "                self.ax.clear()  # clear old image from the axes (fixes a performance issue)\n",
        "                plt.figure(self.fig)  # add the figure back to pyplot ** sigh **\n",
        "                self.animation_step(i)\n",
        "                plt.show()  # show the current animation frame (pyplot then closes and throws away figure ** sigh **)\n",
        "                if interval:\n",
        "                    time.sleep(interval)\n",
        "        except KeyboardInterrupt:\n",
        "            pass"
      ],
      "metadata": {
        "id": "rgUDrNdtvjwK"
      },
      "execution_count": 3,
      "outputs": []
    }
  ]
}